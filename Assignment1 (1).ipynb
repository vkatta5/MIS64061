{
  "nbformat": 4,
  "nbformat_minor": 0,
  "metadata": {
    "colab": {
      "provenance": [],
      "collapsed_sections": []
    },
    "kernelspec": {
      "name": "python3",
      "display_name": "Python 3"
    },
    "language_info": {
      "name": "python"
    }
  },
  "cells": [
    {
      "cell_type": "markdown",
      "metadata": {
        "id": "w30M7H3GvOIX"
      },
      "source": [
        "### The IMDB dataset"
      ]
    },
    {
      "cell_type": "markdown",
      "metadata": {
        "id": "5I0AFsV4vOIY"
      },
      "source": [
        "**Loading the IMDB dataset**"
      ]
    },
    {
      "cell_type": "code",
      "execution_count": 1,
      "metadata": {
        "id": "BvgxuXOxvOIY",
        "colab": {
          "base_uri": "https://localhost:8080/"
        },
        "outputId": "81d611ff-a60b-4f25-8836-301a69fc1899"
      },
      "outputs": [
        {
          "output_type": "stream",
          "name": "stdout",
          "text": [
            "Downloading data from https://storage.googleapis.com/tensorflow/tf-keras-datasets/imdb.npz\n",
            "17465344/17464789 [==============================] - 0s 0us/step\n",
            "17473536/17464789 [==============================] - 0s 0us/step\n"
          ]
        }
      ],
      "source": [
        "from tensorflow.keras.datasets import imdb\n",
        "(train_data, train_labels), (test_data, test_labels) = imdb.load_data(\n",
        "    num_words=10000)"
      ]
    },
    {
      "cell_type": "code",
      "execution_count": 2,
      "metadata": {
        "id": "r_QzZqF3vOIa",
        "colab": {
          "base_uri": "https://localhost:8080/"
        },
        "outputId": "b7dc7120-847c-4490-f8f9-0482441dd8e8"
      },
      "outputs": [
        {
          "output_type": "execute_result",
          "data": {
            "text/plain": [
              "[1,\n",
              " 14,\n",
              " 22,\n",
              " 16,\n",
              " 43,\n",
              " 530,\n",
              " 973,\n",
              " 1622,\n",
              " 1385,\n",
              " 65,\n",
              " 458,\n",
              " 4468,\n",
              " 66,\n",
              " 3941,\n",
              " 4,\n",
              " 173,\n",
              " 36,\n",
              " 256,\n",
              " 5,\n",
              " 25,\n",
              " 100,\n",
              " 43,\n",
              " 838,\n",
              " 112,\n",
              " 50,\n",
              " 670,\n",
              " 2,\n",
              " 9,\n",
              " 35,\n",
              " 480,\n",
              " 284,\n",
              " 5,\n",
              " 150,\n",
              " 4,\n",
              " 172,\n",
              " 112,\n",
              " 167,\n",
              " 2,\n",
              " 336,\n",
              " 385,\n",
              " 39,\n",
              " 4,\n",
              " 172,\n",
              " 4536,\n",
              " 1111,\n",
              " 17,\n",
              " 546,\n",
              " 38,\n",
              " 13,\n",
              " 447,\n",
              " 4,\n",
              " 192,\n",
              " 50,\n",
              " 16,\n",
              " 6,\n",
              " 147,\n",
              " 2025,\n",
              " 19,\n",
              " 14,\n",
              " 22,\n",
              " 4,\n",
              " 1920,\n",
              " 4613,\n",
              " 469,\n",
              " 4,\n",
              " 22,\n",
              " 71,\n",
              " 87,\n",
              " 12,\n",
              " 16,\n",
              " 43,\n",
              " 530,\n",
              " 38,\n",
              " 76,\n",
              " 15,\n",
              " 13,\n",
              " 1247,\n",
              " 4,\n",
              " 22,\n",
              " 17,\n",
              " 515,\n",
              " 17,\n",
              " 12,\n",
              " 16,\n",
              " 626,\n",
              " 18,\n",
              " 2,\n",
              " 5,\n",
              " 62,\n",
              " 386,\n",
              " 12,\n",
              " 8,\n",
              " 316,\n",
              " 8,\n",
              " 106,\n",
              " 5,\n",
              " 4,\n",
              " 2223,\n",
              " 5244,\n",
              " 16,\n",
              " 480,\n",
              " 66,\n",
              " 3785,\n",
              " 33,\n",
              " 4,\n",
              " 130,\n",
              " 12,\n",
              " 16,\n",
              " 38,\n",
              " 619,\n",
              " 5,\n",
              " 25,\n",
              " 124,\n",
              " 51,\n",
              " 36,\n",
              " 135,\n",
              " 48,\n",
              " 25,\n",
              " 1415,\n",
              " 33,\n",
              " 6,\n",
              " 22,\n",
              " 12,\n",
              " 215,\n",
              " 28,\n",
              " 77,\n",
              " 52,\n",
              " 5,\n",
              " 14,\n",
              " 407,\n",
              " 16,\n",
              " 82,\n",
              " 2,\n",
              " 8,\n",
              " 4,\n",
              " 107,\n",
              " 117,\n",
              " 5952,\n",
              " 15,\n",
              " 256,\n",
              " 4,\n",
              " 2,\n",
              " 7,\n",
              " 3766,\n",
              " 5,\n",
              " 723,\n",
              " 36,\n",
              " 71,\n",
              " 43,\n",
              " 530,\n",
              " 476,\n",
              " 26,\n",
              " 400,\n",
              " 317,\n",
              " 46,\n",
              " 7,\n",
              " 4,\n",
              " 2,\n",
              " 1029,\n",
              " 13,\n",
              " 104,\n",
              " 88,\n",
              " 4,\n",
              " 381,\n",
              " 15,\n",
              " 297,\n",
              " 98,\n",
              " 32,\n",
              " 2071,\n",
              " 56,\n",
              " 26,\n",
              " 141,\n",
              " 6,\n",
              " 194,\n",
              " 7486,\n",
              " 18,\n",
              " 4,\n",
              " 226,\n",
              " 22,\n",
              " 21,\n",
              " 134,\n",
              " 476,\n",
              " 26,\n",
              " 480,\n",
              " 5,\n",
              " 144,\n",
              " 30,\n",
              " 5535,\n",
              " 18,\n",
              " 51,\n",
              " 36,\n",
              " 28,\n",
              " 224,\n",
              " 92,\n",
              " 25,\n",
              " 104,\n",
              " 4,\n",
              " 226,\n",
              " 65,\n",
              " 16,\n",
              " 38,\n",
              " 1334,\n",
              " 88,\n",
              " 12,\n",
              " 16,\n",
              " 283,\n",
              " 5,\n",
              " 16,\n",
              " 4472,\n",
              " 113,\n",
              " 103,\n",
              " 32,\n",
              " 15,\n",
              " 16,\n",
              " 5345,\n",
              " 19,\n",
              " 178,\n",
              " 32]"
            ]
          },
          "metadata": {},
          "execution_count": 2
        }
      ],
      "source": [
        "train_data[0]"
      ]
    },
    {
      "cell_type": "code",
      "execution_count": 3,
      "metadata": {
        "id": "mnEMU-J6vOIa",
        "colab": {
          "base_uri": "https://localhost:8080/"
        },
        "outputId": "046ccc60-5813-4d0b-bb5d-42bf35b82d68"
      },
      "outputs": [
        {
          "output_type": "execute_result",
          "data": {
            "text/plain": [
              "1"
            ]
          },
          "metadata": {},
          "execution_count": 3
        }
      ],
      "source": [
        "train_labels[0]"
      ]
    },
    {
      "cell_type": "code",
      "execution_count": 4,
      "metadata": {
        "id": "GBA4Xs4qvOIb",
        "colab": {
          "base_uri": "https://localhost:8080/"
        },
        "outputId": "bec8693f-8a06-44e1-f107-041a60539a30"
      },
      "outputs": [
        {
          "output_type": "execute_result",
          "data": {
            "text/plain": [
              "9999"
            ]
          },
          "metadata": {},
          "execution_count": 4
        }
      ],
      "source": [
        "max([max(sequence) for sequence in train_data])"
      ]
    },
    {
      "cell_type": "markdown",
      "metadata": {
        "id": "MsqMt7tpvOIc"
      },
      "source": [
        "**Decoding reviews back to text**"
      ]
    },
    {
      "cell_type": "code",
      "execution_count": 5,
      "metadata": {
        "id": "VyjRoRlEvOIc",
        "colab": {
          "base_uri": "https://localhost:8080/"
        },
        "outputId": "c429f5e6-b43b-40c9-b896-56a065fe3f98"
      },
      "outputs": [
        {
          "output_type": "stream",
          "name": "stdout",
          "text": [
            "Downloading data from https://storage.googleapis.com/tensorflow/tf-keras-datasets/imdb_word_index.json\n",
            "1646592/1641221 [==============================] - 0s 0us/step\n",
            "1654784/1641221 [==============================] - 0s 0us/step\n"
          ]
        }
      ],
      "source": [
        "word_index = imdb.get_word_index()\n",
        "reverse_word_index = dict(\n",
        "    [(value, key) for (key, value) in word_index.items()])\n",
        "decoded_review = \" \".join(\n",
        "    [reverse_word_index.get(i - 3, \"?\") for i in train_data[0]])"
      ]
    },
    {
      "cell_type": "markdown",
      "metadata": {
        "id": "UYt8nosIvOId"
      },
      "source": [
        "### Preparing the data"
      ]
    },
    {
      "cell_type": "markdown",
      "metadata": {
        "id": "qEOuUiICvOId"
      },
      "source": [
        "**Encoding the integer sequences via multi-hot encoding**"
      ]
    },
    {
      "cell_type": "code",
      "execution_count": 6,
      "metadata": {
        "id": "aEkDT5mZvOId"
      },
      "outputs": [],
      "source": [
        "import numpy as np\n",
        "def vectorize_sequences(sequences, dimension=10000):\n",
        "    results = np.zeros((len(sequences), dimension))\n",
        "    for i, sequence in enumerate(sequences):\n",
        "        for j in sequence:\n",
        "            results[i, j] = 1.\n",
        "    return results\n",
        "x_train = vectorize_sequences(train_data)\n",
        "x_test = vectorize_sequences(test_data)"
      ]
    },
    {
      "cell_type": "code",
      "execution_count": 7,
      "metadata": {
        "id": "MOyKePDEvOIe",
        "colab": {
          "base_uri": "https://localhost:8080/"
        },
        "outputId": "c24f13ab-b85c-4db2-f0a7-0a1fa4746b02"
      },
      "outputs": [
        {
          "output_type": "execute_result",
          "data": {
            "text/plain": [
              "array([0., 1., 1., ..., 0., 0., 0.])"
            ]
          },
          "metadata": {},
          "execution_count": 7
        }
      ],
      "source": [
        "x_train[0]"
      ]
    },
    {
      "cell_type": "code",
      "execution_count": 8,
      "metadata": {
        "id": "euda1IL4vOIe"
      },
      "outputs": [],
      "source": [
        "y_train = np.asarray(train_labels).astype(\"float32\")\n",
        "y_test = np.asarray(test_labels).astype(\"float32\")"
      ]
    },
    {
      "cell_type": "markdown",
      "metadata": {
        "id": "jLZbv0K8vOIf"
      },
      "source": [
        "### Building your model"
      ]
    },
    {
      "cell_type": "markdown",
      "metadata": {
        "id": "O3uZifBYvOIf"
      },
      "source": [
        "**Model definition**"
      ]
    },
    {
      "cell_type": "code",
      "execution_count": 12,
      "metadata": {
        "id": "2_4V9sj4vOIg"
      },
      "outputs": [],
      "source": [
        "from tensorflow import keras\n",
        "from tensorflow.keras import layers\n",
        "\n",
        "model = keras.Sequential([\n",
        "    layers.Dense(16, activation=\"relu\"),\n",
        "    layers.Dense(16, activation=\"relu\"),\n",
        "    layers.Dense(1, activation=\"sigmoid\")\n",
        "])"
      ]
    },
    {
      "cell_type": "markdown",
      "metadata": {
        "id": "ARBddASRvOIg"
      },
      "source": [
        "**Compiling the model**"
      ]
    },
    {
      "cell_type": "code",
      "execution_count": 13,
      "metadata": {
        "id": "RCyfkBFJvOIh"
      },
      "outputs": [],
      "source": [
        "model.compile(optimizer=\"rmsprop\",\n",
        "              loss=\"binary_crossentropy\",\n",
        "              metrics=[\"accuracy\"])"
      ]
    },
    {
      "cell_type": "markdown",
      "metadata": {
        "id": "tJJT51cCvOIh"
      },
      "source": [
        "### Validating your approach"
      ]
    },
    {
      "cell_type": "markdown",
      "metadata": {
        "id": "CLUKQB80vOIi"
      },
      "source": [
        "**Setting aside a validation set**"
      ]
    },
    {
      "cell_type": "code",
      "execution_count": 9,
      "metadata": {
        "id": "6N16tZtkvOIi"
      },
      "outputs": [],
      "source": [
        "x_val = x_train[:10000]\n",
        "partial_x_train = x_train[10000:]\n",
        "y_val = y_train[:10000]\n",
        "partial_y_train = y_train[10000:]"
      ]
    },
    {
      "cell_type": "markdown",
      "metadata": {
        "id": "ApS6QGlIvOIj"
      },
      "source": [
        "**Training your model**"
      ]
    },
    {
      "cell_type": "code",
      "execution_count": 14,
      "metadata": {
        "id": "qPh7g4mSvOIj",
        "colab": {
          "base_uri": "https://localhost:8080/"
        },
        "outputId": "3d436db1-17a3-4f51-8113-1a33e44b5a52"
      },
      "outputs": [
        {
          "output_type": "stream",
          "name": "stdout",
          "text": [
            "Epoch 1/20\n",
            "30/30 [==============================] - 1s 26ms/step - loss: 0.5265 - accuracy: 0.7837 - val_loss: 0.3998 - val_accuracy: 0.8713\n",
            "Epoch 2/20\n",
            "30/30 [==============================] - 1s 19ms/step - loss: 0.3218 - accuracy: 0.9021 - val_loss: 0.3147 - val_accuracy: 0.8889\n",
            "Epoch 3/20\n",
            "30/30 [==============================] - 1s 18ms/step - loss: 0.2373 - accuracy: 0.9257 - val_loss: 0.2939 - val_accuracy: 0.8858\n",
            "Epoch 4/20\n",
            "30/30 [==============================] - 1s 18ms/step - loss: 0.1875 - accuracy: 0.9425 - val_loss: 0.2738 - val_accuracy: 0.8888\n",
            "Epoch 5/20\n",
            "30/30 [==============================] - 1s 18ms/step - loss: 0.1539 - accuracy: 0.9521 - val_loss: 0.2757 - val_accuracy: 0.8862\n",
            "Epoch 6/20\n",
            "30/30 [==============================] - 1s 18ms/step - loss: 0.1270 - accuracy: 0.9625 - val_loss: 0.2855 - val_accuracy: 0.8862\n",
            "Epoch 7/20\n",
            "30/30 [==============================] - 1s 18ms/step - loss: 0.1069 - accuracy: 0.9682 - val_loss: 0.2958 - val_accuracy: 0.8857\n",
            "Epoch 8/20\n",
            "30/30 [==============================] - 1s 18ms/step - loss: 0.0885 - accuracy: 0.9749 - val_loss: 0.3261 - val_accuracy: 0.8829\n",
            "Epoch 9/20\n",
            "30/30 [==============================] - 1s 18ms/step - loss: 0.0711 - accuracy: 0.9811 - val_loss: 0.3713 - val_accuracy: 0.8706\n",
            "Epoch 10/20\n",
            "30/30 [==============================] - 1s 18ms/step - loss: 0.0590 - accuracy: 0.9849 - val_loss: 0.3597 - val_accuracy: 0.8804\n",
            "Epoch 11/20\n",
            "30/30 [==============================] - 1s 17ms/step - loss: 0.0459 - accuracy: 0.9900 - val_loss: 0.3852 - val_accuracy: 0.8777\n",
            "Epoch 12/20\n",
            "30/30 [==============================] - 1s 18ms/step - loss: 0.0384 - accuracy: 0.9923 - val_loss: 0.4133 - val_accuracy: 0.8768\n",
            "Epoch 13/20\n",
            "30/30 [==============================] - 1s 18ms/step - loss: 0.0309 - accuracy: 0.9940 - val_loss: 0.4402 - val_accuracy: 0.8743\n",
            "Epoch 14/20\n",
            "30/30 [==============================] - 1s 18ms/step - loss: 0.0233 - accuracy: 0.9966 - val_loss: 0.4973 - val_accuracy: 0.8656\n",
            "Epoch 15/20\n",
            "30/30 [==============================] - 1s 18ms/step - loss: 0.0189 - accuracy: 0.9968 - val_loss: 0.5049 - val_accuracy: 0.8738\n",
            "Epoch 16/20\n",
            "30/30 [==============================] - 1s 18ms/step - loss: 0.0156 - accuracy: 0.9972 - val_loss: 0.5368 - val_accuracy: 0.8721\n",
            "Epoch 17/20\n",
            "30/30 [==============================] - 1s 17ms/step - loss: 0.0089 - accuracy: 0.9995 - val_loss: 0.5651 - val_accuracy: 0.8704\n",
            "Epoch 18/20\n",
            "30/30 [==============================] - 1s 19ms/step - loss: 0.0080 - accuracy: 0.9997 - val_loss: 0.6108 - val_accuracy: 0.8661\n",
            "Epoch 19/20\n",
            "30/30 [==============================] - 1s 18ms/step - loss: 0.0065 - accuracy: 0.9995 - val_loss: 0.7378 - val_accuracy: 0.8521\n",
            "Epoch 20/20\n",
            "30/30 [==============================] - 1s 18ms/step - loss: 0.0040 - accuracy: 0.9999 - val_loss: 0.6849 - val_accuracy: 0.8674\n"
          ]
        }
      ],
      "source": [
        "history = model.fit(partial_x_train,\n",
        "                    partial_y_train,\n",
        "                    epochs=20,\n",
        "                    batch_size=512,\n",
        "                    validation_data=(x_val, y_val))"
      ]
    },
    {
      "cell_type": "code",
      "execution_count": 15,
      "metadata": {
        "id": "cAYG5UYcvOIj",
        "colab": {
          "base_uri": "https://localhost:8080/"
        },
        "outputId": "c6c8170d-27ed-40e6-b003-804a4dc38552"
      },
      "outputs": [
        {
          "output_type": "execute_result",
          "data": {
            "text/plain": [
              "dict_keys(['loss', 'accuracy', 'val_loss', 'val_accuracy'])"
            ]
          },
          "metadata": {},
          "execution_count": 15
        }
      ],
      "source": [
        "history_dict = history.history\n",
        "history_dict.keys()"
      ]
    },
    {
      "cell_type": "markdown",
      "metadata": {
        "id": "o9u90597vOIk"
      },
      "source": [
        "**Plotting the training and validation loss**"
      ]
    },
    {
      "cell_type": "code",
      "execution_count": null,
      "metadata": {
        "id": "Cy4Jxt3xvOIk",
        "colab": {
          "base_uri": "https://localhost:8080/",
          "height": 295
        },
        "outputId": "d0e8e928-69be-40d1-86a4-514c7ae24d1f"
      },
      "outputs": [
        {
          "output_type": "display_data",
          "data": {
            "text/plain": [
              "<Figure size 432x288 with 1 Axes>"
            ],
            "image/png": "[encoded data removed]"
          },
          "metadata": {
            "needs_background": "light"
          }
        }
      ],
      "source": [
        "import matplotlib.pyplot as plt\n",
        "history_dict = history.history\n",
        "loss_values = history_dict[\"loss\"]\n",
        "val_loss_values = history_dict[\"val_loss\"]\n",
        "epochs = range(1, len(loss_values) + 1)\n",
        "plt.plot(epochs, loss_values, \"bo\", label=\"Training loss\")\n",
        "plt.plot(epochs, val_loss_values, \"b\", label=\"Validation loss\")\n",
        "plt.title(\"Training and validation loss\")\n",
        "plt.xlabel(\"Epochs\")\n",
        "plt.ylabel(\"Loss\")\n",
        "plt.legend()\n",
        "plt.show()"
      ]
    },
    {
      "cell_type": "markdown",
      "metadata": {
        "id": "QeXWkifrvOIl"
      },
      "source": [
        "**Plotting the training and validation accuracy**"
      ]
    },
    {
      "cell_type": "code",
      "execution_count": null,
      "metadata": {
        "id": "MKJLjlvGvOIl",
        "colab": {
          "base_uri": "https://localhost:8080/",
          "height": 295
        },
        "outputId": "47acdb39-b22c-4397-e22f-ecb81c68f8e5"
      },
      "outputs": [
        {
          "output_type": "display_data",
          "data": {
            "text/plain": [
              "<Figure size 432x288 with 1 Axes>"
            ],
            "image/png": "[encoded data removed]"
          },
          "metadata": {
            "needs_background": "light"
          }
        }
      ],
      "source": [
        "plt.clf()\n",
        "acc = history_dict[\"accuracy\"]\n",
        "val_acc = history_dict[\"val_accuracy\"]\n",
        "plt.plot(epochs, acc, \"bo\", label=\"Training acc\")\n",
        "plt.plot(epochs, val_acc, \"b\", label=\"Validation acc\")\n",
        "plt.title(\"Training and validation accuracy\")\n",
        "plt.xlabel(\"Epochs\")\n",
        "plt.ylabel(\"Accuracy\")\n",
        "plt.legend()\n",
        "plt.show()"
      ]
    },
    {
      "cell_type": "markdown",
      "metadata": {
        "id": "FAgvFjUqvOIm"
      },
      "source": [
        "**Retraining a model from scratch**"
      ]
    },
    {
      "cell_type": "code",
      "execution_count": null,
      "metadata": {
        "id": "Dti54SMrvOIm",
        "colab": {
          "base_uri": "https://localhost:8080/"
        },
        "outputId": "94faf78c-2f4f-4039-af80-011d75d89f2e"
      },
      "outputs": [
        {
          "output_type": "stream",
          "name": "stdout",
          "text": [
            "Epoch 1/4\n",
            "49/49 [==============================] - 2s 31ms/step - loss: 0.4628 - accuracy: 0.8158\n",
            "Epoch 2/4\n",
            "49/49 [==============================] - 1s 30ms/step - loss: 0.2655 - accuracy: 0.9110\n",
            "Epoch 3/4\n",
            "49/49 [==============================] - 1s 30ms/step - loss: 0.2047 - accuracy: 0.9265\n",
            "Epoch 4/4\n",
            "49/49 [==============================] - 1s 30ms/step - loss: 0.1699 - accuracy: 0.9397\n",
            "782/782 [==============================] - 2s 3ms/step - loss: 0.3201 - accuracy: 0.8741\n"
          ]
        }
      ],
      "source": [
        "model = keras.Sequential([\n",
        "    layers.Dense(16, activation=\"relu\"),\n",
        "    layers.Dense(16, activation=\"relu\"),\n",
        "    layers.Dense(1, activation=\"sigmoid\")\n",
        "])\n",
        "model.compile(optimizer=\"rmsprop\",\n",
        "              loss=\"binary_crossentropy\",\n",
        "              metrics=[\"accuracy\"])\n",
        "model.fit(x_train, y_train, epochs=4, batch_size=512)\n",
        "results = model.evaluate(x_test, y_test)"
      ]
    },
    {
      "cell_type": "code",
      "execution_count": null,
      "metadata": {
        "id": "kQKkF6ZJvOIm",
        "colab": {
          "base_uri": "https://localhost:8080/"
        },
        "outputId": "a84b0eeb-8fc1-4e4b-c737-1f65ec2bb3a3"
      },
      "outputs": [
        {
          "output_type": "execute_result",
          "data": {
            "text/plain": [
              "[0.320098876953125, 0.8740800023078918]"
            ]
          },
          "metadata": {},
          "execution_count": 17
        }
      ],
      "source": [
        "results"
      ]
    },
    {
      "cell_type": "markdown",
      "metadata": {
        "id": "vBnBhc2gvOIn"
      },
      "source": [
        "### Using a trained model to generate predictions on new data"
      ]
    },
    {
      "cell_type": "code",
      "execution_count": null,
      "metadata": {
        "id": "sfrzl-NuvOIn",
        "colab": {
          "base_uri": "https://localhost:8080/"
        },
        "outputId": "4d973fee-e77d-4335-8b4c-422415a61431"
      },
      "outputs": [
        {
          "output_type": "execute_result",
          "data": {
            "text/plain": [
              "array([[0.13326192],\n",
              "       [0.9988809 ],\n",
              "       [0.634463  ],\n",
              "       ...,\n",
              "       [0.08197233],\n",
              "       [0.03423634],\n",
              "       [0.4878762 ]], dtype=float32)"
            ]
          },
          "metadata": {},
          "execution_count": 18
        }
      ],
      "source": [
        "model.predict(x_test)"
      ]
    },
    {
      "cell_type": "markdown",
      "source": [
        "### 1. Trying different number of hidden layers in the model to determine its effect on validation and test accuracy"
      ],
      "metadata": {
        "id": "WgqgHACkcjfi"
      }
    },
    {
      "cell_type": "markdown",
      "source": [
        "**Model Definitions**"
      ],
      "metadata": {
        "id": "khxnvJVudn1i"
      }
    },
    {
      "cell_type": "code",
      "source": [
        "model_1a = keras.Sequential([\n",
        "    layers.Dense(16, activation=\"relu\"),\n",
        "    layers.Dense(16, activation=\"relu\"),\n",
        "    layers.Dense(16, activation=\"relu\"),\n",
        "    layers.Dense(1, activation=\"sigmoid\")\n",
        "])\n",
        "\n",
        "model_1b = keras.Sequential([\n",
        "    layers.Dense(16, activation=\"relu\"),\n",
        "    layers.Dense(1, activation=\"sigmoid\")\n",
        "])"
      ],
      "metadata": {
        "id": "TOiD2R7GdNWF"
      },
      "execution_count": null,
      "outputs": []
    },
    {
      "cell_type": "markdown",
      "source": [
        "**Compiling the New Models**"
      ],
      "metadata": {
        "id": "KCurV1ZldsGh"
      }
    },
    {
      "cell_type": "code",
      "source": [
        "model_1a.compile(optimizer=\"rmsprop\",\n",
        "              loss=\"binary_crossentropy\",\n",
        "              metrics=[\"accuracy\"])\n",
        "\n",
        "model_1b.compile(optimizer=\"rmsprop\",\n",
        "              loss=\"binary_crossentropy\",\n",
        "              metrics=[\"accuracy\"])"
      ],
      "metadata": {
        "id": "se_l2sRLdyTp"
      },
      "execution_count": null,
      "outputs": []
    },
    {
      "cell_type": "markdown",
      "source": [
        "**Training the New Models**"
      ],
      "metadata": {
        "id": "9X8DTJuHd2M1"
      }
    },
    {
      "cell_type": "code",
      "source": [
        "history_1a = model_1a.fit(partial_x_train,\n",
        "                    partial_y_train,\n",
        "                    epochs=20,\n",
        "                    batch_size=512,\n",
        "                    validation_data=(x_val, y_val))\n",
        "\n",
        "history_1b = model_1b.fit(partial_x_train,\n",
        "                    partial_y_train,\n",
        "                    epochs=20,\n",
        "                    batch_size=512,\n",
        "                    validation_data=(x_val, y_val))"
      ],
      "metadata": {
        "colab": {
          "base_uri": "https://localhost:8080/"
        },
        "id": "a0uDir1md7Yb",
        "outputId": "149ad570-d291-4a95-cc4c-6575f8b8504a"
      },
      "execution_count": null,
      "outputs": [
        {
          "output_type": "stream",
          "name": "stdout",
          "text": [
            "Epoch 1/20\n",
            "30/30 [==============================] - 3s 62ms/step - loss: 0.5006 - accuracy: 0.7896 - val_loss: 0.3603 - val_accuracy: 0.8803\n",
            "Epoch 2/20\n",
            "30/30 [==============================] - 2s 58ms/step - loss: 0.2858 - accuracy: 0.9054 - val_loss: 0.3374 - val_accuracy: 0.8648\n",
            "Epoch 3/20\n",
            "30/30 [==============================] - 1s 41ms/step - loss: 0.2065 - accuracy: 0.9319 - val_loss: 0.3234 - val_accuracy: 0.8688\n",
            "Epoch 4/20\n",
            "30/30 [==============================] - 1s 39ms/step - loss: 0.1666 - accuracy: 0.9429 - val_loss: 0.3062 - val_accuracy: 0.8780\n",
            "Epoch 5/20\n",
            "30/30 [==============================] - 1s 41ms/step - loss: 0.1301 - accuracy: 0.9589 - val_loss: 0.2913 - val_accuracy: 0.8854\n",
            "Epoch 6/20\n",
            "30/30 [==============================] - 1s 40ms/step - loss: 0.1091 - accuracy: 0.9648 - val_loss: 0.3162 - val_accuracy: 0.8847\n",
            "Epoch 7/20\n",
            "30/30 [==============================] - 1s 39ms/step - loss: 0.0929 - accuracy: 0.9713 - val_loss: 0.3294 - val_accuracy: 0.8824\n",
            "Epoch 8/20\n",
            "30/30 [==============================] - 1s 38ms/step - loss: 0.0742 - accuracy: 0.9786 - val_loss: 0.3637 - val_accuracy: 0.8765\n",
            "Epoch 9/20\n",
            "30/30 [==============================] - 1s 38ms/step - loss: 0.0613 - accuracy: 0.9822 - val_loss: 0.3970 - val_accuracy: 0.8735\n",
            "Epoch 10/20\n",
            "30/30 [==============================] - 1s 38ms/step - loss: 0.0485 - accuracy: 0.9879 - val_loss: 0.4859 - val_accuracy: 0.8574\n",
            "Epoch 11/20\n",
            "30/30 [==============================] - 1s 41ms/step - loss: 0.0419 - accuracy: 0.9889 - val_loss: 0.4452 - val_accuracy: 0.8769\n",
            "Epoch 12/20\n",
            "30/30 [==============================] - 1s 38ms/step - loss: 0.0344 - accuracy: 0.9913 - val_loss: 0.4794 - val_accuracy: 0.8743\n",
            "Epoch 13/20\n",
            "30/30 [==============================] - 1s 39ms/step - loss: 0.0297 - accuracy: 0.9925 - val_loss: 0.5068 - val_accuracy: 0.8718\n",
            "Epoch 14/20\n",
            "30/30 [==============================] - 1s 38ms/step - loss: 0.0163 - accuracy: 0.9970 - val_loss: 0.7195 - val_accuracy: 0.8399\n",
            "Epoch 15/20\n",
            "30/30 [==============================] - 1s 38ms/step - loss: 0.0132 - accuracy: 0.9979 - val_loss: 0.6021 - val_accuracy: 0.8632\n",
            "Epoch 16/20\n",
            "30/30 [==============================] - 1s 39ms/step - loss: 0.0192 - accuracy: 0.9951 - val_loss: 0.6241 - val_accuracy: 0.8664\n",
            "Epoch 17/20\n",
            "30/30 [==============================] - 1s 37ms/step - loss: 0.0058 - accuracy: 0.9997 - val_loss: 0.6615 - val_accuracy: 0.8647\n",
            "Epoch 18/20\n",
            "30/30 [==============================] - 1s 38ms/step - loss: 0.0189 - accuracy: 0.9939 - val_loss: 0.6946 - val_accuracy: 0.8657\n",
            "Epoch 19/20\n",
            "30/30 [==============================] - 1s 37ms/step - loss: 0.0032 - accuracy: 0.9998 - val_loss: 0.7353 - val_accuracy: 0.8616\n",
            "Epoch 20/20\n",
            "30/30 [==============================] - 1s 38ms/step - loss: 0.0174 - accuracy: 0.9951 - val_loss: 0.7743 - val_accuracy: 0.8642\n",
            "Epoch 1/20\n",
            "30/30 [==============================] - 2s 48ms/step - loss: 0.4880 - accuracy: 0.7981 - val_loss: 0.3825 - val_accuracy: 0.8713\n",
            "Epoch 2/20\n",
            "30/30 [==============================] - 1s 41ms/step - loss: 0.3094 - accuracy: 0.9065 - val_loss: 0.3344 - val_accuracy: 0.8692\n",
            "Epoch 3/20\n",
            "30/30 [==============================] - 1s 38ms/step - loss: 0.2410 - accuracy: 0.9258 - val_loss: 0.2897 - val_accuracy: 0.8907\n",
            "Epoch 4/20\n",
            "30/30 [==============================] - 1s 37ms/step - loss: 0.1990 - accuracy: 0.9397 - val_loss: 0.2792 - val_accuracy: 0.8895\n",
            "Epoch 5/20\n",
            "30/30 [==============================] - 1s 37ms/step - loss: 0.1686 - accuracy: 0.9483 - val_loss: 0.2852 - val_accuracy: 0.8840\n",
            "Epoch 6/20\n",
            "30/30 [==============================] - 1s 37ms/step - loss: 0.1446 - accuracy: 0.9570 - val_loss: 0.2908 - val_accuracy: 0.8843\n",
            "Epoch 7/20\n",
            "30/30 [==============================] - 1s 40ms/step - loss: 0.1269 - accuracy: 0.9629 - val_loss: 0.2834 - val_accuracy: 0.8866\n",
            "Epoch 8/20\n",
            "30/30 [==============================] - 1s 37ms/step - loss: 0.1111 - accuracy: 0.9707 - val_loss: 0.2904 - val_accuracy: 0.8841\n",
            "Epoch 9/20\n",
            "30/30 [==============================] - 1s 37ms/step - loss: 0.0985 - accuracy: 0.9727 - val_loss: 0.3000 - val_accuracy: 0.8826\n",
            "Epoch 10/20\n",
            "30/30 [==============================] - 1s 38ms/step - loss: 0.0863 - accuracy: 0.9786 - val_loss: 0.3099 - val_accuracy: 0.8841\n",
            "Epoch 11/20\n",
            "30/30 [==============================] - 1s 37ms/step - loss: 0.0757 - accuracy: 0.9819 - val_loss: 0.3246 - val_accuracy: 0.8837\n",
            "Epoch 12/20\n",
            "30/30 [==============================] - 1s 37ms/step - loss: 0.0685 - accuracy: 0.9835 - val_loss: 0.3361 - val_accuracy: 0.8787\n",
            "Epoch 13/20\n",
            "30/30 [==============================] - 1s 38ms/step - loss: 0.0599 - accuracy: 0.9873 - val_loss: 0.3499 - val_accuracy: 0.8798\n",
            "Epoch 14/20\n",
            "30/30 [==============================] - 1s 40ms/step - loss: 0.0536 - accuracy: 0.9893 - val_loss: 0.3659 - val_accuracy: 0.8787\n",
            "Epoch 15/20\n",
            "30/30 [==============================] - 1s 38ms/step - loss: 0.0475 - accuracy: 0.9915 - val_loss: 0.3824 - val_accuracy: 0.8775\n",
            "Epoch 16/20\n",
            "30/30 [==============================] - 1s 38ms/step - loss: 0.0409 - accuracy: 0.9928 - val_loss: 0.3991 - val_accuracy: 0.8753\n",
            "Epoch 17/20\n",
            "30/30 [==============================] - 1s 37ms/step - loss: 0.0362 - accuracy: 0.9943 - val_loss: 0.4231 - val_accuracy: 0.8706\n",
            "Epoch 18/20\n",
            "30/30 [==============================] - 1s 37ms/step - loss: 0.0324 - accuracy: 0.9951 - val_loss: 0.4343 - val_accuracy: 0.8733\n",
            "Epoch 19/20\n",
            "30/30 [==============================] - 1s 42ms/step - loss: 0.0276 - accuracy: 0.9959 - val_loss: 0.4558 - val_accuracy: 0.8732\n",
            "Epoch 20/20\n",
            "30/30 [==============================] - 1s 41ms/step - loss: 0.0241 - accuracy: 0.9971 - val_loss: 0.4750 - val_accuracy: 0.8717\n"
          ]
        }
      ]
    },
    {
      "cell_type": "markdown",
      "source": [
        "**Looking at the effect of change in layers on the parameters**"
      ],
      "metadata": {
        "id": "0HjLNZK1eFt5"
      }
    },
    {
      "cell_type": "code",
      "source": [
        "model_1a.summary()\n",
        "model_1b.summary()"
      ],
      "metadata": {
        "colab": {
          "base_uri": "https://localhost:8080/"
        },
        "id": "6VmNpFG5eTxv",
        "outputId": "9496853b-1ae6-480a-fe3a-8fef5d198230"
      },
      "execution_count": null,
      "outputs": [
        {
          "output_type": "stream",
          "name": "stdout",
          "text": [
            "Model: \"sequential_2\"\n",
            "_________________________________________________________________\n",
            " Layer (type)                Output Shape              Param #   \n",
            "=================================================================\n",
            " dense_6 (Dense)             (None, 16)                160016    \n",
            "                                                                 \n",
            " dense_7 (Dense)             (None, 16)                272       \n",
            "                                                                 \n",
            " dense_8 (Dense)             (None, 16)                272       \n",
            "                                                                 \n",
            " dense_9 (Dense)             (None, 1)                 17        \n",
            "                                                                 \n",
            "=================================================================\n",
            "Total params: 160,577\n",
            "Trainable params: 160,577\n",
            "Non-trainable params: 0\n",
            "_________________________________________________________________\n",
            "Model: \"sequential_3\"\n",
            "_________________________________________________________________\n",
            " Layer (type)                Output Shape              Param #   \n",
            "=================================================================\n",
            " dense_10 (Dense)            (None, 16)                160016    \n",
            "                                                                 \n",
            " dense_11 (Dense)            (None, 1)                 17        \n",
            "                                                                 \n",
            "=================================================================\n",
            "Total params: 160,033\n",
            "Trainable params: 160,033\n",
            "Non-trainable params: 0\n",
            "_________________________________________________________________\n"
          ]
        }
      ]
    },
    {
      "cell_type": "markdown",
      "source": [
        "**Plotting the Training and Validation Losses**"
      ],
      "metadata": {
        "id": "6orFNN2peWfw"
      }
    },
    {
      "cell_type": "code",
      "source": [
        "import matplotlib.pyplot as plt\n",
        "history_dict_1a = history_1a.history\n",
        "loss_values_1a = history_dict_1a[\"loss\"]\n",
        "val_loss_values_1a = history_dict_1a[\"val_loss\"]\n",
        "epochs = range(1, len(loss_values_1a) + 1)\n",
        "plt.plot(epochs, loss_values_1a, \"bo\", label=\"Training loss\")\n",
        "plt.plot(epochs, val_loss_values_1a, \"b\", label=\"Validation loss\")\n",
        "plt.title(\"Training and validation loss for 3 layers\")\n",
        "plt.xlabel(\"Epochs\")\n",
        "plt.ylabel(\"Loss\")\n",
        "plt.legend()\n",
        "plt.show()"
      ],
      "metadata": {
        "colab": {
          "base_uri": "https://localhost:8080/",
          "height": 295
        },
        "id": "cIkN0HOYepye",
        "outputId": "ccf31833-c1fe-41cc-893a-b98dabc18f10"
      },
      "execution_count": null,
      "outputs": [
        {
          "output_type": "display_data",
          "data": {
            "text/plain": [
              "<Figure size 432x288 with 1 Axes>"
            ],
            "image/png": "[encoded data removed]"
          },
          "metadata": {
            "needs_background": "light"
          }
        }
      ]
    },
    {
      "cell_type": "code",
      "source": [
        "import matplotlib.pyplot as plt\n",
        "history_dict_1b = history_1b.history\n",
        "loss_values_1b = history_dict_1b[\"loss\"]\n",
        "val_loss_values_1b = history_dict_1b[\"val_loss\"]\n",
        "epochs = range(1, len(loss_values_1b) + 1)\n",
        "plt.plot(epochs, loss_values_1b, \"bo\", label=\"Training loss\")\n",
        "plt.plot(epochs, val_loss_values_1b, \"b\", label=\"Validation loss\")\n",
        "plt.title(\"Training and validation loss for 1 layer\")\n",
        "plt.xlabel(\"Epochs\")\n",
        "plt.ylabel(\"Loss\")\n",
        "plt.legend()\n",
        "plt.show()"
      ],
      "metadata": {
        "colab": {
          "base_uri": "https://localhost:8080/",
          "height": 295
        },
        "id": "cccelcvjfioT",
        "outputId": "98ec9088-4564-4bd1-81bb-303f1c9a6d11"
      },
      "execution_count": null,
      "outputs": [
        {
          "output_type": "display_data",
          "data": {
            "text/plain": [
              "<Figure size 432x288 with 1 Axes>"
            ],
            "image/png": "[encoded data removed]"
          },
          "metadata": {
            "needs_background": "light"
          }
        }
      ]
    },
    {
      "cell_type": "markdown",
      "source": [
        "**Plotting the training and validation accuracy**"
      ],
      "metadata": {
        "id": "fSa7K8J0gBb-"
      }
    },
    {
      "cell_type": "code",
      "source": [
        "plt.clf()\n",
        "acc = history_dict_1a[\"accuracy\"]\n",
        "val_acc = history_dict_1a[\"val_accuracy\"]\n",
        "plt.plot(epochs, acc, \"bo\", label=\"Training acc\")\n",
        "plt.plot(epochs, val_acc, \"b\", label=\"Validation acc\")\n",
        "plt.title(\"Training and validation accuracy for 3 layers\")\n",
        "plt.xlabel(\"Epochs\")\n",
        "plt.ylabel(\"Accuracy\")\n",
        "plt.legend()\n",
        "plt.show()"
      ],
      "metadata": {
        "colab": {
          "base_uri": "https://localhost:8080/",
          "height": 295
        },
        "id": "WBXiqycZgNbk",
        "outputId": "cf3ea017-c7e1-4d7a-f6e4-4ccaeff8add7"
      },
      "execution_count": null,
      "outputs": [
        {
          "output_type": "display_data",
          "data": {
            "text/plain": [
              "<Figure size 432x288 with 1 Axes>"
            ],
            "image/png": "[encoded data removed]"
          },
          "metadata": {
            "needs_background": "light"
          }
        }
      ]
    },
    {
      "cell_type": "code",
      "source": [
        "plt.clf()\n",
        "acc = history_dict_1b[\"accuracy\"]\n",
        "val_acc = history_dict_1b[\"val_accuracy\"]\n",
        "plt.plot(epochs, acc, \"bo\", label=\"Training acc\")\n",
        "plt.plot(epochs, val_acc, \"b\", label=\"Validation acc\")\n",
        "plt.title(\"Training and validation accuracy for 1 layer\")\n",
        "plt.xlabel(\"Epochs\")\n",
        "plt.ylabel(\"Accuracy\")\n",
        "plt.legend()\n",
        "plt.show()"
      ],
      "metadata": {
        "colab": {
          "base_uri": "https://localhost:8080/",
          "height": 295
        },
        "id": "D0InHTWWgvDH",
        "outputId": "9aab739f-a862-43a6-9929-9cda650a106d"
      },
      "execution_count": null,
      "outputs": [
        {
          "output_type": "display_data",
          "data": {
            "text/plain": [
              "<Figure size 432x288 with 1 Axes>"
            ],
            "image/png": "[encoded data removed]"
          },
          "metadata": {
            "needs_background": "light"
          }
        }
      ]
    },
    {
      "cell_type": "markdown",
      "source": [
        "**Retraining the Models from Scratch**"
      ],
      "metadata": {
        "id": "Q92EE-HBiZJH"
      }
    },
    {
      "cell_type": "code",
      "source": [
        "model_1a = keras.Sequential([\n",
        "    layers.Dense(16, activation=\"relu\"),\n",
        "    layers.Dense(16, activation=\"relu\"),\n",
        "    layers.Dense(16, activation=\"relu\"),\n",
        "    layers.Dense(1, activation=\"sigmoid\")\n",
        "])\n",
        "model_1a.compile(optimizer=\"rmsprop\",\n",
        "              loss=\"binary_crossentropy\",\n",
        "              metrics=[\"accuracy\"])\n",
        "model_1a.fit(x_train, y_train, epochs=4, batch_size=512)\n",
        "results_1a = model_1a.evaluate(x_test, y_test)"
      ],
      "metadata": {
        "colab": {
          "base_uri": "https://localhost:8080/"
        },
        "id": "g2T20BnvidO0",
        "outputId": "309ee2c4-00bb-4680-dbfe-893a45294e78"
      },
      "execution_count": null,
      "outputs": [
        {
          "output_type": "stream",
          "name": "stdout",
          "text": [
            "Epoch 1/4\n",
            "49/49 [==============================] - 3s 28ms/step - loss: 0.4673 - accuracy: 0.8125\n",
            "Epoch 2/4\n",
            "49/49 [==============================] - 1s 27ms/step - loss: 0.2526 - accuracy: 0.9113\n",
            "Epoch 3/4\n",
            "49/49 [==============================] - 1s 28ms/step - loss: 0.1905 - accuracy: 0.9316\n",
            "Epoch 4/4\n",
            "49/49 [==============================] - 1s 27ms/step - loss: 0.1654 - accuracy: 0.9410\n",
            "782/782 [==============================] - 2s 3ms/step - loss: 0.3265 - accuracy: 0.8754\n"
          ]
        }
      ]
    },
    {
      "cell_type": "code",
      "source": [
        "results_1a"
      ],
      "metadata": {
        "colab": {
          "base_uri": "https://localhost:8080/"
        },
        "id": "RSK1zHs0i9mr",
        "outputId": "24c3e9e9-a810-4d78-b206-9e243a559f65"
      },
      "execution_count": null,
      "outputs": [
        {
          "output_type": "execute_result",
          "data": {
            "text/plain": [
              "[0.3264565169811249, 0.8753600120544434]"
            ]
          },
          "metadata": {},
          "execution_count": 28
        }
      ]
    },
    {
      "cell_type": "code",
      "source": [
        "model_1b = keras.Sequential([\n",
        "    layers.Dense(16, activation=\"relu\"),\n",
        "    layers.Dense(1, activation=\"sigmoid\")\n",
        "])\n",
        "model_1b.compile(optimizer=\"rmsprop\",\n",
        "              loss=\"binary_crossentropy\",\n",
        "              metrics=[\"accuracy\"])\n",
        "model_1b.fit(x_train, y_train, epochs=4, batch_size=512)\n",
        "results_1b = model_1b.evaluate(x_test, y_test)"
      ],
      "metadata": {
        "colab": {
          "base_uri": "https://localhost:8080/"
        },
        "id": "9py7xu5fjAWI",
        "outputId": "7f041af3-22fb-431c-d9f7-24ddc6ca3c48"
      },
      "execution_count": null,
      "outputs": [
        {
          "output_type": "stream",
          "name": "stdout",
          "text": [
            "Epoch 1/4\n",
            "49/49 [==============================] - 2s 30ms/step - loss: 0.4603 - accuracy: 0.8306\n",
            "Epoch 2/4\n",
            "49/49 [==============================] - 1s 30ms/step - loss: 0.2882 - accuracy: 0.9046\n",
            "Epoch 3/4\n",
            "49/49 [==============================] - 1s 29ms/step - loss: 0.2259 - accuracy: 0.9240\n",
            "Epoch 4/4\n",
            "49/49 [==============================] - 1s 30ms/step - loss: 0.1929 - accuracy: 0.9344\n",
            "782/782 [==============================] - 2s 2ms/step - loss: 0.2871 - accuracy: 0.8829\n"
          ]
        }
      ]
    },
    {
      "cell_type": "code",
      "source": [
        "results_1b"
      ],
      "metadata": {
        "colab": {
          "base_uri": "https://localhost:8080/"
        },
        "id": "h_Y7q0aFjKqt",
        "outputId": "d721ace6-27b1-4da0-ed66-00ee547cd6a1"
      },
      "execution_count": null,
      "outputs": [
        {
          "output_type": "execute_result",
          "data": {
            "text/plain": [
              "[0.2870545983314514, 0.8829200267791748]"
            ]
          },
          "metadata": {},
          "execution_count": 30
        }
      ]
    },
    {
      "cell_type": "markdown",
      "source": [
        "### 2. Trying Hidden Layers with Different Number of Hidden Units"
      ],
      "metadata": {
        "id": "Rnuhv4WpjPmE"
      }
    },
    {
      "cell_type": "markdown",
      "source": [
        "**Defining and Compiling the Model with 32 layers**"
      ],
      "metadata": {
        "id": "Xn-U7xSoovBZ"
      }
    },
    {
      "cell_type": "code",
      "source": [
        "model_2a = keras.Sequential([\n",
        "    layers.Dense(32, activation=\"relu\"),\n",
        "    layers.Dense(32, activation=\"relu\"),\n",
        "    layers.Dense(1, activation=\"sigmoid\")\n",
        "])\n",
        "model_2a.compile(optimizer=\"rmsprop\",\n",
        "              loss=\"binary_crossentropy\",\n",
        "              metrics=[\"accuracy\"])\n",
        "history_2a = model_2a.fit(partial_x_train,\n",
        "                    partial_y_train,\n",
        "                    epochs=20,\n",
        "                    batch_size=512,\n",
        "                    validation_data=(x_val, y_val))\n",
        "history_dict_2a = history_2a.history\n",
        "history_dict_2a.keys()"
      ],
      "metadata": {
        "colab": {
          "base_uri": "https://localhost:8080/"
        },
        "id": "Az68PIUNnJE4",
        "outputId": "afbf2f7d-639a-4095-bfc3-417524f8c7d8"
      },
      "execution_count": 19,
      "outputs": [
        {
          "output_type": "stream",
          "name": "stdout",
          "text": [
            "Epoch 1/20\n",
            "30/30 [==============================] - 1s 30ms/step - loss: 0.5026 - accuracy: 0.7837 - val_loss: 0.3626 - val_accuracy: 0.8738\n",
            "Epoch 2/20\n",
            "30/30 [==============================] - 1s 23ms/step - loss: 0.2838 - accuracy: 0.9035 - val_loss: 0.2914 - val_accuracy: 0.8887\n",
            "Epoch 3/20\n",
            "30/30 [==============================] - 1s 23ms/step - loss: 0.2043 - accuracy: 0.9304 - val_loss: 0.2811 - val_accuracy: 0.8876\n",
            "Epoch 4/20\n",
            "30/30 [==============================] - 1s 23ms/step - loss: 0.1562 - accuracy: 0.9476 - val_loss: 0.2795 - val_accuracy: 0.8895\n",
            "Epoch 5/20\n",
            "30/30 [==============================] - 1s 23ms/step - loss: 0.1248 - accuracy: 0.9576 - val_loss: 0.3516 - val_accuracy: 0.8678\n",
            "Epoch 6/20\n",
            "30/30 [==============================] - 1s 24ms/step - loss: 0.0987 - accuracy: 0.9685 - val_loss: 0.3900 - val_accuracy: 0.8626\n",
            "Epoch 7/20\n",
            "30/30 [==============================] - 1s 23ms/step - loss: 0.0807 - accuracy: 0.9753 - val_loss: 0.3880 - val_accuracy: 0.8673\n",
            "Epoch 8/20\n",
            "30/30 [==============================] - 1s 23ms/step - loss: 0.0616 - accuracy: 0.9825 - val_loss: 0.4198 - val_accuracy: 0.8643\n",
            "Epoch 9/20\n",
            "30/30 [==============================] - 1s 23ms/step - loss: 0.0546 - accuracy: 0.9848 - val_loss: 0.3982 - val_accuracy: 0.8772\n",
            "Epoch 10/20\n",
            "30/30 [==============================] - 1s 23ms/step - loss: 0.0433 - accuracy: 0.9879 - val_loss: 0.4334 - val_accuracy: 0.8752\n",
            "Epoch 11/20\n",
            "30/30 [==============================] - 1s 23ms/step - loss: 0.0360 - accuracy: 0.9901 - val_loss: 0.4560 - val_accuracy: 0.8745\n",
            "Epoch 12/20\n",
            "30/30 [==============================] - 1s 24ms/step - loss: 0.0192 - accuracy: 0.9970 - val_loss: 0.5194 - val_accuracy: 0.8642\n",
            "Epoch 13/20\n",
            "30/30 [==============================] - 1s 23ms/step - loss: 0.0221 - accuracy: 0.9952 - val_loss: 0.5595 - val_accuracy: 0.8624\n",
            "Epoch 14/20\n",
            "30/30 [==============================] - 1s 24ms/step - loss: 0.0090 - accuracy: 0.9993 - val_loss: 0.5711 - val_accuracy: 0.8678\n",
            "Epoch 15/20\n",
            "30/30 [==============================] - 1s 26ms/step - loss: 0.0176 - accuracy: 0.9951 - val_loss: 0.5991 - val_accuracy: 0.8709\n",
            "Epoch 16/20\n",
            "30/30 [==============================] - 1s 26ms/step - loss: 0.0045 - accuracy: 0.9999 - val_loss: 0.6332 - val_accuracy: 0.8700\n",
            "Epoch 17/20\n",
            "30/30 [==============================] - 1s 25ms/step - loss: 0.0212 - accuracy: 0.9931 - val_loss: 0.6597 - val_accuracy: 0.8701\n",
            "Epoch 18/20\n",
            "30/30 [==============================] - 1s 22ms/step - loss: 0.0026 - accuracy: 0.9999 - val_loss: 0.6884 - val_accuracy: 0.8680\n",
            "Epoch 19/20\n",
            "30/30 [==============================] - 1s 23ms/step - loss: 0.0058 - accuracy: 0.9987 - val_loss: 0.8657 - val_accuracy: 0.8512\n",
            "Epoch 20/20\n",
            "30/30 [==============================] - 1s 23ms/step - loss: 0.0020 - accuracy: 0.9998 - val_loss: 0.7558 - val_accuracy: 0.8676\n"
          ]
        },
        {
          "output_type": "execute_result",
          "data": {
            "text/plain": [
              "dict_keys(['loss', 'accuracy', 'val_loss', 'val_accuracy'])"
            ]
          },
          "metadata": {},
          "execution_count": 19
        }
      ]
    },
    {
      "cell_type": "markdown",
      "source": [
        "**Plotting Accuracy and Loss of the Model**"
      ],
      "metadata": {
        "id": "K27QdFQQo6DP"
      }
    },
    {
      "cell_type": "code",
      "source": [
        "import matplotlib.pyplot as plt\n",
        "loss_value_2a = history_dict_2a[\"loss\"]\n",
        "val_loss_value_2a = history_dict_2a[\"val_loss\"]\n",
        "epochs = range(1, len(loss_value_2a) + 1)\n",
        "plt.plot(epochs, loss_value_2a, \"bo\", label=\"Training loss\")\n",
        "plt.plot(epochs, val_loss_value_2a, \"b\", label=\"Validation loss\")\n",
        "plt.title(\"Training and validation loss\")\n",
        "plt.xlabel(\"Epochs\")\n",
        "plt.ylabel(\"Loss\")\n",
        "plt.legend()\n",
        "plt.show()\n",
        "plt.clf()\n",
        "acc = history_dict_2a[\"accuracy\"]\n",
        "val_acc = history_dict_2a[\"val_accuracy\"]\n",
        "plt.plot(epochs, acc, \"bo\", label=\"Training acc\")\n",
        "plt.plot(epochs, val_acc, \"b\", label=\"Validation acc\")\n",
        "plt.title(\"Training and validation accuracy\")\n",
        "plt.xlabel(\"Epochs\")\n",
        "plt.ylabel(\"Accuracy\")\n",
        "plt.legend()\n",
        "plt.show()"
      ],
      "metadata": {
        "id": "hiSJtqiCpECZ",
        "colab": {
          "base_uri": "https://localhost:8080/",
          "height": 573
        },
        "outputId": "740697b2-827b-4006-e768-a27c3a3a38cd"
      },
      "execution_count": 20,
      "outputs": [
        {
          "output_type": "display_data",
          "data": {
            "text/plain": [
              "<Figure size 432x288 with 1 Axes>"
            ],
            "image/png": "[encoded data removed]"
          },
          "metadata": {
            "needs_background": "light"
          }
        },
        {
          "output_type": "display_data",
          "data": {
            "text/plain": [
              "<Figure size 432x288 with 1 Axes>"
            ],
            "image/png": "[encoded data removed]"
          },
          "metadata": {
            "needs_background": "light"
          }
        }
      ]
    },
    {
      "cell_type": "code",
      "source": [
        "model_2a.fit(x_train, y_train, epochs=4, batch_size=512)\n",
        "results_2a = model_2a.evaluate(x_test, y_test)"
      ],
      "metadata": {
        "id": "j2KlfuknqM-K",
        "colab": {
          "base_uri": "https://localhost:8080/"
        },
        "outputId": "9d2d8c98-02ed-43f1-c40c-2b8d4e11e976"
      },
      "execution_count": 23,
      "outputs": [
        {
          "output_type": "stream",
          "name": "stdout",
          "text": [
            "Epoch 1/4\n",
            "49/49 [==============================] - 1s 17ms/step - loss: 0.2199 - accuracy: 0.9449\n",
            "Epoch 2/4\n",
            "49/49 [==============================] - 1s 17ms/step - loss: 0.1237 - accuracy: 0.9630\n",
            "Epoch 3/4\n",
            "49/49 [==============================] - 1s 17ms/step - loss: 0.0914 - accuracy: 0.9720\n",
            "Epoch 4/4\n",
            "49/49 [==============================] - 1s 17ms/step - loss: 0.0662 - accuracy: 0.9797\n",
            "782/782 [==============================] - 1s 1ms/step - loss: 0.5121 - accuracy: 0.8604\n"
          ]
        }
      ]
    },
    {
      "cell_type": "code",
      "source": [
        "results_2a"
      ],
      "metadata": {
        "id": "yuyp4EiCrqC0",
        "colab": {
          "base_uri": "https://localhost:8080/"
        },
        "outputId": "40f10046-b84a-4be2-89a9-210dcedf9245"
      },
      "execution_count": 24,
      "outputs": [
        {
          "output_type": "execute_result",
          "data": {
            "text/plain": [
              "[0.5120534896850586, 0.8604400157928467]"
            ]
          },
          "metadata": {},
          "execution_count": 24
        }
      ]
    },
    {
      "cell_type": "markdown",
      "source": [
        "**Defining and Compiling the Model with 64 layers**"
      ],
      "metadata": {
        "id": "mZfsTbQoqr-C"
      }
    },
    {
      "cell_type": "code",
      "source": [
        "model_2b = keras.Sequential([\n",
        "    layers.Dense(64, activation=\"relu\"),\n",
        "    layers.Dense(64, activation=\"relu\"),\n",
        "    layers.Dense(1, activation=\"sigmoid\")\n",
        "])\n",
        "model_2b.compile(optimizer=\"rmsprop\",\n",
        "              loss=\"binary_crossentropy\",\n",
        "              metrics=[\"accuracy\"])\n",
        "history_2b = model_2b.fit(partial_x_train,\n",
        "                    partial_y_train,\n",
        "                    epochs=20,\n",
        "                    batch_size=512,\n",
        "                    validation_data=(x_val, y_val))\n",
        "history_dict_2b = history_2b.history\n",
        "history_dict_2b.keys()"
      ],
      "metadata": {
        "id": "_pfKQAeKqtAp",
        "colab": {
          "base_uri": "https://localhost:8080/"
        },
        "outputId": "98f44220-dacb-4bb5-faff-7b76ca3a6b53"
      },
      "execution_count": 27,
      "outputs": [
        {
          "output_type": "stream",
          "name": "stdout",
          "text": [
            "Epoch 1/20\n",
            "30/30 [==============================] - 2s 46ms/step - loss: 0.4868 - accuracy: 0.7649 - val_loss: 0.3199 - val_accuracy: 0.8816\n",
            "Epoch 2/20\n",
            "30/30 [==============================] - 1s 34ms/step - loss: 0.2586 - accuracy: 0.9051 - val_loss: 0.2912 - val_accuracy: 0.8823\n",
            "Epoch 3/20\n",
            "30/30 [==============================] - 1s 35ms/step - loss: 0.1916 - accuracy: 0.9305 - val_loss: 0.2734 - val_accuracy: 0.8901\n",
            "Epoch 4/20\n",
            "30/30 [==============================] - 1s 35ms/step - loss: 0.1431 - accuracy: 0.9514 - val_loss: 0.2972 - val_accuracy: 0.8842\n",
            "Epoch 5/20\n",
            "30/30 [==============================] - 1s 34ms/step - loss: 0.1205 - accuracy: 0.9565 - val_loss: 0.3123 - val_accuracy: 0.8862\n",
            "Epoch 6/20\n",
            "30/30 [==============================] - 1s 34ms/step - loss: 0.0766 - accuracy: 0.9759 - val_loss: 0.3465 - val_accuracy: 0.8844\n",
            "Epoch 7/20\n",
            "30/30 [==============================] - 1s 35ms/step - loss: 0.0582 - accuracy: 0.9836 - val_loss: 0.3842 - val_accuracy: 0.8799\n",
            "Epoch 8/20\n",
            "30/30 [==============================] - 1s 34ms/step - loss: 0.0513 - accuracy: 0.9847 - val_loss: 0.4226 - val_accuracy: 0.8802\n",
            "Epoch 9/20\n",
            "30/30 [==============================] - 1s 34ms/step - loss: 0.0453 - accuracy: 0.9876 - val_loss: 0.4470 - val_accuracy: 0.8785\n",
            "Epoch 10/20\n",
            "30/30 [==============================] - 1s 34ms/step - loss: 0.0109 - accuracy: 0.9989 - val_loss: 0.5256 - val_accuracy: 0.8751\n",
            "Epoch 11/20\n",
            "30/30 [==============================] - 1s 34ms/step - loss: 0.0384 - accuracy: 0.9909 - val_loss: 0.5456 - val_accuracy: 0.8748\n",
            "Epoch 12/20\n",
            "30/30 [==============================] - 1s 34ms/step - loss: 0.0038 - accuracy: 0.9999 - val_loss: 0.6048 - val_accuracy: 0.8686\n",
            "Epoch 13/20\n",
            "30/30 [==============================] - 1s 34ms/step - loss: 0.0368 - accuracy: 0.9907 - val_loss: 0.6156 - val_accuracy: 0.8729\n",
            "Epoch 14/20\n",
            "30/30 [==============================] - 1s 35ms/step - loss: 0.0019 - accuracy: 0.9999 - val_loss: 0.6526 - val_accuracy: 0.8736\n",
            "Epoch 15/20\n",
            "30/30 [==============================] - 1s 34ms/step - loss: 0.0012 - accuracy: 0.9999 - val_loss: 0.7359 - val_accuracy: 0.8671\n",
            "Epoch 16/20\n",
            "30/30 [==============================] - 1s 34ms/step - loss: 0.0360 - accuracy: 0.9911 - val_loss: 0.7361 - val_accuracy: 0.8720\n",
            "Epoch 17/20\n",
            "30/30 [==============================] - 1s 34ms/step - loss: 6.4763e-04 - accuracy: 1.0000 - val_loss: 0.7583 - val_accuracy: 0.8721\n",
            "Epoch 18/20\n",
            "30/30 [==============================] - 1s 34ms/step - loss: 4.2423e-04 - accuracy: 1.0000 - val_loss: 0.8060 - val_accuracy: 0.8710\n",
            "Epoch 19/20\n",
            "30/30 [==============================] - 1s 34ms/step - loss: 2.7188e-04 - accuracy: 1.0000 - val_loss: 0.9788 - val_accuracy: 0.8644\n",
            "Epoch 20/20\n",
            "30/30 [==============================] - 1s 34ms/step - loss: 0.0383 - accuracy: 0.9920 - val_loss: 0.8809 - val_accuracy: 0.8703\n"
          ]
        },
        {
          "output_type": "execute_result",
          "data": {
            "text/plain": [
              "dict_keys(['loss', 'accuracy', 'val_loss', 'val_accuracy'])"
            ]
          },
          "metadata": {},
          "execution_count": 27
        }
      ]
    },
    {
      "cell_type": "markdown",
      "source": [
        "**Plotting Accuracy and Loss of the Model**"
      ],
      "metadata": {
        "id": "D5apPPmOqyRY"
      }
    },
    {
      "cell_type": "code",
      "source": [
        "import matplotlib.pyplot as plt\n",
        "loss_value_2b = history_dict_2b[\"loss\"]\n",
        "val_loss_value_2b = history_dict_2b[\"val_loss\"]\n",
        "epochs = range(1, len(loss_value_2b) + 1)\n",
        "plt.plot(epochs, val_loss_value_2b, \"bo\", label=\"Training loss\")\n",
        "plt.plot(epochs, val_loss_value_2b, \"b\", label=\"Validation loss\")\n",
        "plt.title(\"Training and validation loss\")\n",
        "plt.xlabel(\"Epochs\")\n",
        "plt.ylabel(\"Loss\")\n",
        "plt.legend()\n",
        "plt.show()\n",
        "plt.clf()\n",
        "acc = history_dict_2b[\"accuracy\"]\n",
        "val_acc = history_dict_2b[\"val_accuracy\"]\n",
        "plt.plot(epochs, acc, \"bo\", label=\"Training acc\")\n",
        "plt.plot(epochs, val_acc, \"b\", label=\"Validation acc\")\n",
        "plt.title(\"Training and validation accuracy\")\n",
        "plt.xlabel(\"Epochs\")\n",
        "plt.ylabel(\"Accuracy\")\n",
        "plt.legend()\n",
        "plt.show()"
      ],
      "metadata": {
        "id": "uzbE9gezrGjl",
        "colab": {
          "base_uri": "https://localhost:8080/",
          "height": 573
        },
        "outputId": "33cd6681-9e6b-43c1-d332-1be2bcbcc09b"
      },
      "execution_count": 28,
      "outputs": [
        {
          "output_type": "display_data",
          "data": {
            "text/plain": [
              "<Figure size 432x288 with 1 Axes>"
            ],
            "image/png": "[encoded data removed]"
          },
          "metadata": {
            "needs_background": "light"
          }
        },
        {
          "output_type": "display_data",
          "data": {
            "text/plain": [
              "<Figure size 432x288 with 1 Axes>"
            ],
            "image/png": "[encoded data removed]"
          },
          "metadata": {
            "needs_background": "light"
          }
        }
      ]
    },
    {
      "cell_type": "code",
      "source": [
        "model_2b.fit(x_train, y_train, epochs=4, batch_size=512)\n",
        "results_2b = model_2b.evaluate(x_test, y_test)"
      ],
      "metadata": {
        "id": "8lVHbmFbrcpz",
        "colab": {
          "base_uri": "https://localhost:8080/"
        },
        "outputId": "6ff4ce33-9e16-42a7-dee3-788763146d36"
      },
      "execution_count": 29,
      "outputs": [
        {
          "output_type": "stream",
          "name": "stdout",
          "text": [
            "Epoch 1/4\n",
            "49/49 [==============================] - 1s 28ms/step - loss: 0.2149 - accuracy: 0.9447\n",
            "Epoch 2/4\n",
            "49/49 [==============================] - 1s 28ms/step - loss: 0.1005 - accuracy: 0.9678\n",
            "Epoch 3/4\n",
            "49/49 [==============================] - 1s 27ms/step - loss: 0.0610 - accuracy: 0.9810\n",
            "Epoch 4/4\n",
            "49/49 [==============================] - 1s 28ms/step - loss: 0.0324 - accuracy: 0.9913\n",
            "782/782 [==============================] - 1s 2ms/step - loss: 0.6295 - accuracy: 0.8622\n"
          ]
        }
      ]
    },
    {
      "cell_type": "code",
      "source": [
        "results_2b"
      ],
      "metadata": {
        "id": "W-zc0EzeryYG",
        "colab": {
          "base_uri": "https://localhost:8080/"
        },
        "outputId": "0a62a01e-fcf5-4f06-c8f6-683a9349a1fe"
      },
      "execution_count": 30,
      "outputs": [
        {
          "output_type": "execute_result",
          "data": {
            "text/plain": [
              "[0.6294626593589783, 0.8622400164604187]"
            ]
          },
          "metadata": {},
          "execution_count": 30
        }
      ]
    },
    {
      "cell_type": "markdown",
      "source": [
        "**Defining and Compiling the Model with 128 layers**"
      ],
      "metadata": {
        "id": "9DYJLIWGrj8D"
      }
    },
    {
      "cell_type": "code",
      "source": [
        "model_2c = keras.Sequential([\n",
        "    layers.Dense(128, activation=\"relu\"),\n",
        "    layers.Dense(128, activation=\"relu\"),\n",
        "    layers.Dense(1, activation=\"sigmoid\")\n",
        "])\n",
        "model_2c.compile(optimizer=\"rmsprop\",\n",
        "              loss=\"binary_crossentropy\",\n",
        "              metrics=[\"accuracy\"])\n",
        "history_2c = model_2c.fit(partial_x_train,\n",
        "                    partial_y_train,\n",
        "                    epochs=20,\n",
        "                    batch_size=512,\n",
        "                    validation_data=(x_val, y_val))\n",
        "history_dict_2c = history_2c.history\n",
        "history_dict_2c.keys()"
      ],
      "metadata": {
        "id": "4teR6Ysmr8hA",
        "colab": {
          "base_uri": "https://localhost:8080/"
        },
        "outputId": "af666bf0-4d02-44e8-fb3b-a72bc73bf498"
      },
      "execution_count": 31,
      "outputs": [
        {
          "output_type": "stream",
          "name": "stdout",
          "text": [
            "Epoch 1/20\n",
            "30/30 [==============================] - 2s 63ms/step - loss: 0.4916 - accuracy: 0.7677 - val_loss: 0.3152 - val_accuracy: 0.8778\n",
            "Epoch 2/20\n",
            "30/30 [==============================] - 2s 57ms/step - loss: 0.2484 - accuracy: 0.9056 - val_loss: 0.3505 - val_accuracy: 0.8534\n",
            "Epoch 3/20\n",
            "30/30 [==============================] - 2s 57ms/step - loss: 0.1801 - accuracy: 0.9311 - val_loss: 0.4312 - val_accuracy: 0.8375\n",
            "Epoch 4/20\n",
            "30/30 [==============================] - 2s 55ms/step - loss: 0.1156 - accuracy: 0.9584 - val_loss: 0.3326 - val_accuracy: 0.8827\n",
            "Epoch 5/20\n",
            "30/30 [==============================] - 2s 54ms/step - loss: 0.0963 - accuracy: 0.9692 - val_loss: 0.3551 - val_accuracy: 0.8785\n",
            "Epoch 6/20\n",
            "30/30 [==============================] - 2s 56ms/step - loss: 0.0767 - accuracy: 0.9766 - val_loss: 0.3638 - val_accuracy: 0.8813\n",
            "Epoch 7/20\n",
            "30/30 [==============================] - 2s 55ms/step - loss: 0.0152 - accuracy: 0.9977 - val_loss: 0.4411 - val_accuracy: 0.8801\n",
            "Epoch 8/20\n",
            "30/30 [==============================] - 2s 55ms/step - loss: 0.0769 - accuracy: 0.9828 - val_loss: 0.4587 - val_accuracy: 0.8813\n",
            "Epoch 9/20\n",
            "30/30 [==============================] - 2s 56ms/step - loss: 0.0038 - accuracy: 0.9999 - val_loss: 0.5278 - val_accuracy: 0.8789\n",
            "Epoch 10/20\n",
            "30/30 [==============================] - 2s 54ms/step - loss: 0.0018 - accuracy: 0.9999 - val_loss: 0.6067 - val_accuracy: 0.8773\n",
            "Epoch 11/20\n",
            "30/30 [==============================] - 2s 55ms/step - loss: 0.0835 - accuracy: 0.9857 - val_loss: 0.6211 - val_accuracy: 0.8757\n",
            "Epoch 12/20\n",
            "30/30 [==============================] - 2s 56ms/step - loss: 5.5170e-04 - accuracy: 1.0000 - val_loss: 0.6515 - val_accuracy: 0.8773\n",
            "Epoch 13/20\n",
            "30/30 [==============================] - 2s 56ms/step - loss: 3.2676e-04 - accuracy: 1.0000 - val_loss: 0.7075 - val_accuracy: 0.8764\n",
            "Epoch 14/20\n",
            "30/30 [==============================] - 2s 55ms/step - loss: 1.7848e-04 - accuracy: 1.0000 - val_loss: 0.7853 - val_accuracy: 0.8759\n",
            "Epoch 15/20\n",
            "30/30 [==============================] - 2s 55ms/step - loss: 7.1641e-05 - accuracy: 1.0000 - val_loss: 0.8837 - val_accuracy: 0.8745\n",
            "Epoch 16/20\n",
            "30/30 [==============================] - 2s 56ms/step - loss: 0.1404 - accuracy: 0.9871 - val_loss: 0.9621 - val_accuracy: 0.8738\n",
            "Epoch 17/20\n",
            "30/30 [==============================] - 2s 55ms/step - loss: 2.7484e-05 - accuracy: 1.0000 - val_loss: 0.9338 - val_accuracy: 0.8744\n",
            "Epoch 18/20\n",
            "30/30 [==============================] - 2s 55ms/step - loss: 1.6080e-05 - accuracy: 1.0000 - val_loss: 0.9379 - val_accuracy: 0.8765\n",
            "Epoch 19/20\n",
            "30/30 [==============================] - 2s 55ms/step - loss: 1.2498e-05 - accuracy: 1.0000 - val_loss: 0.9513 - val_accuracy: 0.8748\n",
            "Epoch 20/20\n",
            "30/30 [==============================] - 2s 55ms/step - loss: 9.4622e-06 - accuracy: 1.0000 - val_loss: 0.9792 - val_accuracy: 0.8735\n"
          ]
        },
        {
          "output_type": "execute_result",
          "data": {
            "text/plain": [
              "dict_keys(['loss', 'accuracy', 'val_loss', 'val_accuracy'])"
            ]
          },
          "metadata": {},
          "execution_count": 31
        }
      ]
    },
    {
      "cell_type": "markdown",
      "source": [
        "**Plotting Accuracy and Loss of the Model**"
      ],
      "metadata": {
        "id": "mYMGe1DLsPTg"
      }
    },
    {
      "cell_type": "code",
      "source": [
        "import matplotlib.pyplot as plt\n",
        "loss_value_2c = history_dict_2c[\"loss\"]\n",
        "val_loss_value_2c = history_dict_2c[\"val_loss\"]\n",
        "epochs = range(1, len(loss_value_2c) + 1)\n",
        "plt.plot(epochs, loss_value_2c, \"bo\", label=\"Training loss\")\n",
        "plt.plot(epochs, val_loss_value_2c, \"b\", label=\"Validation loss\")\n",
        "plt.title(\"Training and validation loss\")\n",
        "plt.xlabel(\"Epochs\")\n",
        "plt.ylabel(\"Loss\")\n",
        "plt.legend()\n",
        "plt.show()\n",
        "plt.clf()\n",
        "acc = history_dict_2c[\"accuracy\"]\n",
        "val_acc = history_dict_2c[\"val_accuracy\"]\n",
        "plt.plot(epochs, acc, \"bo\", label=\"Training acc\")\n",
        "plt.plot(epochs, val_acc, \"b\", label=\"Validation acc\")\n",
        "plt.title(\"Training and validation accuracy\")\n",
        "plt.xlabel(\"Epochs\")\n",
        "plt.ylabel(\"Accuracy\")\n",
        "plt.legend()\n",
        "plt.show()"
      ],
      "metadata": {
        "id": "Lu8UE9GfsVlk",
        "colab": {
          "base_uri": "https://localhost:8080/",
          "height": 573
        },
        "outputId": "fcf79ca5-f540-4c38-83a4-27f3a8189f6c"
      },
      "execution_count": 32,
      "outputs": [
        {
          "output_type": "display_data",
          "data": {
            "text/plain": [
              "<Figure size 432x288 with 1 Axes>"
            ],
            "image/png": "[encoded data removed]"
          },
          "metadata": {
            "needs_background": "light"
          }
        },
        {
          "output_type": "display_data",
          "data": {
            "text/plain": [
              "<Figure size 432x288 with 1 Axes>"
            ],
            "image/png": "[encoded data removed]"
          },
          "metadata": {
            "needs_background": "light"
          }
        }
      ]
    },
    {
      "cell_type": "code",
      "source": [
        "model_2c.fit(x_train, y_train, epochs=4, batch_size=512)\n",
        "results_2c = model_2c.evaluate(x_test, y_test)"
      ],
      "metadata": {
        "id": "1Qco08wCsoCk",
        "colab": {
          "base_uri": "https://localhost:8080/"
        },
        "outputId": "b1fba0a5-f725-4fcc-b304-08988ff1e917"
      },
      "execution_count": 33,
      "outputs": [
        {
          "output_type": "stream",
          "name": "stdout",
          "text": [
            "Epoch 1/4\n",
            "49/49 [==============================] - 2s 43ms/step - loss: 0.2547 - accuracy: 0.9427\n",
            "Epoch 2/4\n",
            "49/49 [==============================] - 2s 43ms/step - loss: 0.0776 - accuracy: 0.9750\n",
            "Epoch 3/4\n",
            "49/49 [==============================] - 2s 43ms/step - loss: 0.0394 - accuracy: 0.9872\n",
            "Epoch 4/4\n",
            "49/49 [==============================] - 2s 43ms/step - loss: 0.0213 - accuracy: 0.9945\n",
            "782/782 [==============================] - 2s 3ms/step - loss: 0.6554 - accuracy: 0.8685\n"
          ]
        }
      ]
    },
    {
      "cell_type": "code",
      "source": [
        "results_2c"
      ],
      "metadata": {
        "id": "yBt1TrPTs_rz",
        "colab": {
          "base_uri": "https://localhost:8080/"
        },
        "outputId": "a6722da3-58f8-4c92-8699-dc5a20b87c95"
      },
      "execution_count": 34,
      "outputs": [
        {
          "output_type": "execute_result",
          "data": {
            "text/plain": [
              "[0.6554473638534546, 0.8685200214385986]"
            ]
          },
          "metadata": {},
          "execution_count": 34
        }
      ]
    },
    {
      "cell_type": "markdown",
      "source": [
        "### 3. Using MSE Loss Function instead of binary_crossentropy"
      ],
      "metadata": {
        "id": "gncFvvgHtYu_"
      }
    },
    {
      "cell_type": "markdown",
      "source": [
        "**Defining and Compiling the Model**"
      ],
      "metadata": {
        "id": "ZqVBP82oucni"
      }
    },
    {
      "cell_type": "code",
      "source": [
        "model_MSE = keras.Sequential([\n",
        "    layers.Dense(16, activation=\"relu\"),\n",
        "    layers.Dense(16, activation=\"relu\"),\n",
        "    layers.Dense(1, activation=\"sigmoid\")\n",
        "])\n",
        "model_MSE.compile(optimizer=\"rmsprop\",\n",
        "              loss=\"mse\",\n",
        "              metrics=[\"accuracy\"])\n",
        "history_model_MSE = model_MSE.fit(partial_x_train,\n",
        "                    partial_y_train,\n",
        "                    epochs=20,\n",
        "                    batch_size=512,\n",
        "                    validation_data=(x_val, y_val))\n",
        "history_dict_MSE = history_model_MSE.history\n",
        "history_dict_MSE.keys()"
      ],
      "metadata": {
        "id": "s4TZA8-qtypW",
        "colab": {
          "base_uri": "https://localhost:8080/"
        },
        "outputId": "5849b006-bbb0-4eda-f344-a859661a4dab"
      },
      "execution_count": 35,
      "outputs": [
        {
          "output_type": "stream",
          "name": "stdout",
          "text": [
            "Epoch 1/20\n",
            "30/30 [==============================] - 1s 25ms/step - loss: 0.1707 - accuracy: 0.7909 - val_loss: 0.1430 - val_accuracy: 0.8127\n",
            "Epoch 2/20\n",
            "30/30 [==============================] - 1s 18ms/step - loss: 0.0923 - accuracy: 0.9037 - val_loss: 0.0956 - val_accuracy: 0.8815\n",
            "Epoch 3/20\n",
            "30/30 [==============================] - 1s 18ms/step - loss: 0.0657 - accuracy: 0.9316 - val_loss: 0.0852 - val_accuracy: 0.8912\n",
            "Epoch 4/20\n",
            "30/30 [==============================] - 1s 19ms/step - loss: 0.0514 - accuracy: 0.9434 - val_loss: 0.0862 - val_accuracy: 0.8842\n",
            "Epoch 5/20\n",
            "30/30 [==============================] - 1s 18ms/step - loss: 0.0406 - accuracy: 0.9587 - val_loss: 0.0830 - val_accuracy: 0.8880\n",
            "Epoch 6/20\n",
            "30/30 [==============================] - 1s 18ms/step - loss: 0.0340 - accuracy: 0.9663 - val_loss: 0.0887 - val_accuracy: 0.8802\n",
            "Epoch 7/20\n",
            "30/30 [==============================] - 1s 19ms/step - loss: 0.0292 - accuracy: 0.9721 - val_loss: 0.0859 - val_accuracy: 0.8856\n",
            "Epoch 8/20\n",
            "30/30 [==============================] - 1s 18ms/step - loss: 0.0234 - accuracy: 0.9791 - val_loss: 0.0885 - val_accuracy: 0.8811\n",
            "Epoch 9/20\n",
            "30/30 [==============================] - 1s 19ms/step - loss: 0.0196 - accuracy: 0.9831 - val_loss: 0.0926 - val_accuracy: 0.8752\n",
            "Epoch 10/20\n",
            "30/30 [==============================] - 1s 18ms/step - loss: 0.0164 - accuracy: 0.9861 - val_loss: 0.0927 - val_accuracy: 0.8768\n",
            "Epoch 11/20\n",
            "30/30 [==============================] - 1s 19ms/step - loss: 0.0139 - accuracy: 0.9883 - val_loss: 0.0948 - val_accuracy: 0.8732\n",
            "Epoch 12/20\n",
            "30/30 [==============================] - 1s 19ms/step - loss: 0.0123 - accuracy: 0.9897 - val_loss: 0.1032 - val_accuracy: 0.8658\n",
            "Epoch 13/20\n",
            "30/30 [==============================] - 1s 18ms/step - loss: 0.0102 - accuracy: 0.9921 - val_loss: 0.0997 - val_accuracy: 0.8704\n",
            "Epoch 14/20\n",
            "30/30 [==============================] - 1s 18ms/step - loss: 0.0088 - accuracy: 0.9921 - val_loss: 0.1008 - val_accuracy: 0.8704\n",
            "Epoch 15/20\n",
            "30/30 [==============================] - 1s 18ms/step - loss: 0.0072 - accuracy: 0.9938 - val_loss: 0.1163 - val_accuracy: 0.8548\n",
            "Epoch 16/20\n",
            "30/30 [==============================] - 1s 19ms/step - loss: 0.0055 - accuracy: 0.9960 - val_loss: 0.1065 - val_accuracy: 0.8679\n",
            "Epoch 17/20\n",
            "30/30 [==============================] - 1s 18ms/step - loss: 0.0059 - accuracy: 0.9955 - val_loss: 0.1070 - val_accuracy: 0.8670\n",
            "Epoch 18/20\n",
            "30/30 [==============================] - 1s 19ms/step - loss: 0.0057 - accuracy: 0.9950 - val_loss: 0.1075 - val_accuracy: 0.8666\n",
            "Epoch 19/20\n",
            "30/30 [==============================] - 1s 18ms/step - loss: 0.0039 - accuracy: 0.9968 - val_loss: 0.1263 - val_accuracy: 0.8489\n",
            "Epoch 20/20\n",
            "30/30 [==============================] - 1s 19ms/step - loss: 0.0037 - accuracy: 0.9969 - val_loss: 0.1100 - val_accuracy: 0.8646\n"
          ]
        },
        {
          "output_type": "execute_result",
          "data": {
            "text/plain": [
              "dict_keys(['loss', 'accuracy', 'val_loss', 'val_accuracy'])"
            ]
          },
          "metadata": {},
          "execution_count": 35
        }
      ]
    },
    {
      "cell_type": "markdown",
      "source": [
        "**Plotting Accuracy and Loss of the Model**"
      ],
      "metadata": {
        "id": "apfPwszluDCX"
      }
    },
    {
      "cell_type": "code",
      "source": [
        "import matplotlib.pyplot as plt\n",
        "loss_value_MSE = history_dict_MSE[\"loss\"]\n",
        "val_loss_value_MSE = history_dict_MSE[\"val_loss\"]\n",
        "epochs = range(1, len(loss_value_MSE) + 1)\n",
        "plt.plot(epochs, loss_value_MSE, \"bo\", label=\"Training loss\")\n",
        "plt.plot(epochs, val_loss_value_MSE, \"b\", label=\"Validation loss\")\n",
        "plt.title(\"Training and validation loss\")\n",
        "plt.xlabel(\"Epochs\")\n",
        "plt.ylabel(\"Loss\")\n",
        "plt.legend()\n",
        "plt.show()\n",
        "plt.clf()\n",
        "acc = history_dict_MSE[\"accuracy\"]\n",
        "val_acc = history_dict_MSE[\"val_accuracy\"]\n",
        "plt.plot(epochs, acc, \"bo\", label=\"Training acc\")\n",
        "plt.plot(epochs, val_acc, \"b\", label=\"Validation acc\")\n",
        "plt.title(\"Training and validation accuracy\")\n",
        "plt.xlabel(\"Epochs\")\n",
        "plt.ylabel(\"Accuracy\")\n",
        "plt.legend()\n",
        "plt.show()"
      ],
      "metadata": {
        "id": "6eBAd1UTuEcd",
        "colab": {
          "base_uri": "https://localhost:8080/",
          "height": 573
        },
        "outputId": "3a9bf694-ef1d-49b6-b4f7-f2bb5357e1a7"
      },
      "execution_count": 36,
      "outputs": [
        {
          "output_type": "display_data",
          "data": {
            "text/plain": [
              "<Figure size 432x288 with 1 Axes>"
            ],
            "image/png": "[encoded data removed]"
          },
          "metadata": {
            "needs_background": "light"
          }
        },
        {
          "output_type": "display_data",
          "data": {
            "text/plain": [
              "<Figure size 432x288 with 1 Axes>"
            ],
            "image/png": "[encoded data removed]"
          },
          "metadata": {
            "needs_background": "light"
          }
        }
      ]
    },
    {
      "cell_type": "code",
      "source": [
        "model_MSE.fit(x_train, y_train, epochs=4, batch_size=512)\n",
        "results_MSE = model_MSE.evaluate(x_test, y_test)"
      ],
      "metadata": {
        "id": "cGCMU9aaul0f",
        "colab": {
          "base_uri": "https://localhost:8080/"
        },
        "outputId": "68b1f145-2216-4569-a8d9-e9bd812e171d"
      },
      "execution_count": 37,
      "outputs": [
        {
          "output_type": "stream",
          "name": "stdout",
          "text": [
            "Epoch 1/4\n",
            "49/49 [==============================] - 1s 14ms/step - loss: 0.0457 - accuracy: 0.9454\n",
            "Epoch 2/4\n",
            "49/49 [==============================] - 1s 14ms/step - loss: 0.0336 - accuracy: 0.9619\n",
            "Epoch 3/4\n",
            "49/49 [==============================] - 1s 14ms/step - loss: 0.0288 - accuracy: 0.9684\n",
            "Epoch 4/4\n",
            "49/49 [==============================] - 1s 14ms/step - loss: 0.0244 - accuracy: 0.9743\n",
            "782/782 [==============================] - 1s 1ms/step - loss: 0.1174 - accuracy: 0.8571\n"
          ]
        }
      ]
    },
    {
      "cell_type": "code",
      "source": [
        "results_MSE"
      ],
      "metadata": {
        "id": "jWxiPBNeus_6",
        "colab": {
          "base_uri": "https://localhost:8080/"
        },
        "outputId": "a0e1733a-1e2f-4cdb-b715-9aa9e166a22e"
      },
      "execution_count": 38,
      "outputs": [
        {
          "output_type": "execute_result",
          "data": {
            "text/plain": [
              "[0.11740012466907501, 0.8570799827575684]"
            ]
          },
          "metadata": {},
          "execution_count": 38
        }
      ]
    },
    {
      "cell_type": "markdown",
      "source": [
        "### 4. Using the Tanh Activation Function instead of Relu"
      ],
      "metadata": {
        "id": "2YZR3l9MuvJQ"
      }
    },
    {
      "cell_type": "markdown",
      "source": [
        "**Defining and Compiling the Model**"
      ],
      "metadata": {
        "id": "JKSsjWBZu6Ys"
      }
    },
    {
      "cell_type": "code",
      "source": [
        "model_tanh = keras.Sequential([\n",
        "    layers.Dense(32, activation=\"tanh\"),\n",
        "    layers.Dense(32, activation=\"tanh\"),\n",
        "    layers.Dense(1, activation=\"sigmoid\")\n",
        "])\n",
        "model_tanh.compile(optimizer=\"rmsprop\",\n",
        "              loss=\"binary_crossentropy\",\n",
        "              metrics=[\"accuracy\"])\n",
        "history_model_tanh = model_tanh.fit(partial_x_train,\n",
        "                    partial_y_train,\n",
        "                    epochs=20,\n",
        "                    batch_size=512,\n",
        "                    validation_data=(x_val, y_val))\n",
        "history_dict_tanh = history_model_tanh.history\n",
        "history_dict_tanh.keys()"
      ],
      "metadata": {
        "id": "ZL_xOtO-u9Zg",
        "colab": {
          "base_uri": "https://localhost:8080/"
        },
        "outputId": "a87930c1-2c6a-4dca-b4cc-92373df42c48"
      },
      "execution_count": 39,
      "outputs": [
        {
          "output_type": "stream",
          "name": "stdout",
          "text": [
            "Epoch 1/20\n",
            "30/30 [==============================] - 3s 30ms/step - loss: 0.4662 - accuracy: 0.7888 - val_loss: 0.3275 - val_accuracy: 0.8735\n",
            "Epoch 2/20\n",
            "30/30 [==============================] - 1s 24ms/step - loss: 0.2424 - accuracy: 0.9109 - val_loss: 0.2798 - val_accuracy: 0.8889\n",
            "Epoch 3/20\n",
            "30/30 [==============================] - 1s 24ms/step - loss: 0.1667 - accuracy: 0.9389 - val_loss: 0.2882 - val_accuracy: 0.8857\n",
            "Epoch 4/20\n",
            "30/30 [==============================] - 1s 24ms/step - loss: 0.1286 - accuracy: 0.9527 - val_loss: 0.3158 - val_accuracy: 0.8836\n",
            "Epoch 5/20\n",
            "30/30 [==============================] - 1s 24ms/step - loss: 0.1023 - accuracy: 0.9631 - val_loss: 0.3848 - val_accuracy: 0.8694\n",
            "Epoch 6/20\n",
            "30/30 [==============================] - 1s 23ms/step - loss: 0.0817 - accuracy: 0.9701 - val_loss: 0.4045 - val_accuracy: 0.8710\n",
            "Epoch 7/20\n",
            "30/30 [==============================] - 1s 24ms/step - loss: 0.0710 - accuracy: 0.9759 - val_loss: 0.4617 - val_accuracy: 0.8665\n",
            "Epoch 8/20\n",
            "30/30 [==============================] - 1s 24ms/step - loss: 0.0613 - accuracy: 0.9791 - val_loss: 0.5101 - val_accuracy: 0.8665\n",
            "Epoch 9/20\n",
            "30/30 [==============================] - 1s 24ms/step - loss: 0.0499 - accuracy: 0.9838 - val_loss: 0.5051 - val_accuracy: 0.8710\n",
            "Epoch 10/20\n",
            "30/30 [==============================] - 1s 24ms/step - loss: 0.0388 - accuracy: 0.9889 - val_loss: 0.5435 - val_accuracy: 0.8691\n",
            "Epoch 11/20\n",
            "30/30 [==============================] - 1s 24ms/step - loss: 0.0343 - accuracy: 0.9898 - val_loss: 0.5805 - val_accuracy: 0.8684\n",
            "Epoch 12/20\n",
            "30/30 [==============================] - 1s 24ms/step - loss: 0.0089 - accuracy: 0.9985 - val_loss: 0.7721 - val_accuracy: 0.8440\n",
            "Epoch 13/20\n",
            "30/30 [==============================] - 1s 23ms/step - loss: 0.0221 - accuracy: 0.9926 - val_loss: 0.6939 - val_accuracy: 0.8626\n",
            "Epoch 14/20\n",
            "30/30 [==============================] - 1s 24ms/step - loss: 0.0361 - accuracy: 0.9914 - val_loss: 0.7509 - val_accuracy: 0.8639\n",
            "Epoch 15/20\n",
            "30/30 [==============================] - 1s 24ms/step - loss: 0.0021 - accuracy: 0.9999 - val_loss: 0.7712 - val_accuracy: 0.8617\n",
            "Epoch 16/20\n",
            "30/30 [==============================] - 1s 24ms/step - loss: 0.0013 - accuracy: 0.9999 - val_loss: 0.8279 - val_accuracy: 0.8614\n",
            "Epoch 17/20\n",
            "30/30 [==============================] - 1s 24ms/step - loss: 0.0329 - accuracy: 0.9913 - val_loss: 0.8420 - val_accuracy: 0.8618\n",
            "Epoch 18/20\n",
            "30/30 [==============================] - 1s 24ms/step - loss: 6.4556e-04 - accuracy: 1.0000 - val_loss: 0.8622 - val_accuracy: 0.8621\n",
            "Epoch 19/20\n",
            "30/30 [==============================] - 1s 24ms/step - loss: 4.1138e-04 - accuracy: 1.0000 - val_loss: 0.9193 - val_accuracy: 0.8597\n",
            "Epoch 20/20\n",
            "30/30 [==============================] - 1s 24ms/step - loss: 0.0372 - accuracy: 0.9931 - val_loss: 0.9430 - val_accuracy: 0.8614\n"
          ]
        },
        {
          "output_type": "execute_result",
          "data": {
            "text/plain": [
              "dict_keys(['loss', 'accuracy', 'val_loss', 'val_accuracy'])"
            ]
          },
          "metadata": {},
          "execution_count": 39
        }
      ]
    },
    {
      "cell_type": "markdown",
      "source": [
        "**Plotting Accuracy and Loss of the Model**"
      ],
      "metadata": {
        "id": "WfJsr1zWvLdI"
      }
    },
    {
      "cell_type": "code",
      "source": [
        "import matplotlib.pyplot as plt\n",
        "loss_value_tanh = history_dict_tanh[\"loss\"]\n",
        "val_loss_value_tanh = history_dict_tanh[\"val_loss\"]\n",
        "epochs = range(1, len(loss_value_tanh) + 1)\n",
        "plt.plot(epochs, loss_value_tanh, \"bo\", label=\"Training loss\")\n",
        "plt.plot(epochs, val_loss_value_tanh, \"b\", label=\"Validation loss\")\n",
        "plt.title(\"Training and validation loss\")\n",
        "plt.xlabel(\"Epochs\")\n",
        "plt.ylabel(\"Loss\")\n",
        "plt.legend()\n",
        "plt.show()\n",
        "plt.clf()\n",
        "acc = history_dict_tanh[\"accuracy\"]\n",
        "val_acc = history_dict_tanh[\"val_accuracy\"]\n",
        "plt.plot(epochs, acc, \"bo\", label=\"Training acc\")\n",
        "plt.plot(epochs, val_acc, \"b\", label=\"Validation acc\")\n",
        "plt.title(\"Training and validation accuracy\")\n",
        "plt.xlabel(\"Epochs\")\n",
        "plt.ylabel(\"Accuracy\")\n",
        "plt.legend()\n",
        "plt.show()"
      ],
      "metadata": {
        "id": "nwJpZfQsvPoI",
        "colab": {
          "base_uri": "https://localhost:8080/",
          "height": 573
        },
        "outputId": "8303dc4f-a3b4-435a-dd24-c19fb651b3af"
      },
      "execution_count": 40,
      "outputs": [
        {
          "output_type": "display_data",
          "data": {
            "text/plain": [
              "<Figure size 432x288 with 1 Axes>"
            ],
            "image/png": "[encoded data removed]"
          },
          "metadata": {
            "needs_background": "light"
          }
        },
        {
          "output_type": "display_data",
          "data": {
            "text/plain": [
              "<Figure size 432x288 with 1 Axes>"
            ],
            "image/png": "[encoded data removed]"
          },
          "metadata": {
            "needs_background": "light"
          }
        }
      ]
    },
    {
      "cell_type": "code",
      "source": [
        "model_tanh.fit(x_train, y_train, epochs=4, batch_size=512)\n",
        "results_tanh = model_tanh.evaluate(x_test, y_test)"
      ],
      "metadata": {
        "id": "iX5DT4xBvhyY",
        "colab": {
          "base_uri": "https://localhost:8080/"
        },
        "outputId": "9a821334-5247-442c-fed6-563a3bd093e5"
      },
      "execution_count": 41,
      "outputs": [
        {
          "output_type": "stream",
          "name": "stdout",
          "text": [
            "Epoch 1/4\n",
            "49/49 [==============================] - 1s 18ms/step - loss: 0.3280 - accuracy: 0.9425\n",
            "Epoch 2/4\n",
            "49/49 [==============================] - 1s 18ms/step - loss: 0.1558 - accuracy: 0.9609\n",
            "Epoch 3/4\n",
            "49/49 [==============================] - 1s 17ms/step - loss: 0.1161 - accuracy: 0.9652\n",
            "Epoch 4/4\n",
            "49/49 [==============================] - 1s 17ms/step - loss: 0.0995 - accuracy: 0.9680\n",
            "782/782 [==============================] - 1s 1ms/step - loss: 0.5058 - accuracy: 0.8504\n"
          ]
        }
      ]
    },
    {
      "cell_type": "code",
      "source": [
        "results_tanh"
      ],
      "metadata": {
        "id": "z6pZg9OFvqMw",
        "colab": {
          "base_uri": "https://localhost:8080/"
        },
        "outputId": "de9fbe3e-7053-4dfa-bf9f-9801fcc6a447"
      },
      "execution_count": 42,
      "outputs": [
        {
          "output_type": "execute_result",
          "data": {
            "text/plain": [
              "[0.5057600140571594, 0.8504400253295898]"
            ]
          },
          "metadata": {},
          "execution_count": 42
        }
      ]
    },
    {
      "cell_type": "markdown",
      "source": [
        "### 5. Using Dropout and Hypertuning Techniques on the Model to Perform Better on Validation"
      ],
      "metadata": {
        "id": "8OkLQl16vrof"
      }
    },
    {
      "cell_type": "markdown",
      "source": [
        "**Defining and Compiling the Model with Dropout Technique**"
      ],
      "metadata": {
        "id": "l-_C9OFNwPgW"
      }
    },
    {
      "cell_type": "code",
      "source": [
        "from tensorflow.keras import regularizers\n",
        "model_Dropout = keras.Sequential([\n",
        "    layers.Dense(32, activation=\"relu\"),\n",
        "    layers.Dropout(0.5),\n",
        "    layers.Dense(32, activation=\"relu\"),\n",
        "    layers.Dropout(0.5),\n",
        "    layers.Dense(1, activation=\"sigmoid\")\n",
        "])\n",
        "model_Dropout.compile(optimizer=\"rmsprop\",\n",
        "              loss=\"binary_crossentropy\",\n",
        "              metrics=[\"accuracy\"])\n",
        "history_model_Dropout = model_Dropout.fit(partial_x_train,\n",
        "                    partial_y_train,\n",
        "                    epochs=20,\n",
        "                    batch_size=512,\n",
        "                    validation_data=(x_val, y_val))\n",
        "history_dict_Dropout = history_model_Dropout.history\n",
        "history_dict_Dropout.keys()"
      ],
      "metadata": {
        "id": "AMsMOWIbwUlZ",
        "colab": {
          "base_uri": "https://localhost:8080/"
        },
        "outputId": "ccb164a9-fbb8-47ce-a966-ab27ec5709b9"
      },
      "execution_count": 43,
      "outputs": [
        {
          "output_type": "stream",
          "name": "stdout",
          "text": [
            "Epoch 1/20\n",
            "30/30 [==============================] - 1s 28ms/step - loss: 0.5942 - accuracy: 0.6800 - val_loss: 0.4375 - val_accuracy: 0.8596\n",
            "Epoch 2/20\n",
            "30/30 [==============================] - 1s 23ms/step - loss: 0.4223 - accuracy: 0.8336 - val_loss: 0.3344 - val_accuracy: 0.8790\n",
            "Epoch 3/20\n",
            "30/30 [==============================] - 1s 23ms/step - loss: 0.3219 - accuracy: 0.8855 - val_loss: 0.2893 - val_accuracy: 0.8871\n",
            "Epoch 4/20\n",
            "30/30 [==============================] - 1s 23ms/step - loss: 0.2564 - accuracy: 0.9111 - val_loss: 0.2899 - val_accuracy: 0.8887\n",
            "Epoch 5/20\n",
            "30/30 [==============================] - 1s 23ms/step - loss: 0.2138 - accuracy: 0.9285 - val_loss: 0.2859 - val_accuracy: 0.8849\n",
            "Epoch 6/20\n",
            "30/30 [==============================] - 1s 23ms/step - loss: 0.1873 - accuracy: 0.9395 - val_loss: 0.2891 - val_accuracy: 0.8917\n",
            "Epoch 7/20\n",
            "30/30 [==============================] - 1s 23ms/step - loss: 0.1518 - accuracy: 0.9522 - val_loss: 0.3058 - val_accuracy: 0.8894\n",
            "Epoch 8/20\n",
            "30/30 [==============================] - 1s 23ms/step - loss: 0.1257 - accuracy: 0.9614 - val_loss: 0.3837 - val_accuracy: 0.8780\n",
            "Epoch 9/20\n",
            "30/30 [==============================] - 1s 23ms/step - loss: 0.1058 - accuracy: 0.9685 - val_loss: 0.3763 - val_accuracy: 0.8842\n",
            "Epoch 10/20\n",
            "30/30 [==============================] - 1s 23ms/step - loss: 0.0859 - accuracy: 0.9733 - val_loss: 0.3951 - val_accuracy: 0.8868\n",
            "Epoch 11/20\n",
            "30/30 [==============================] - 1s 22ms/step - loss: 0.0724 - accuracy: 0.9781 - val_loss: 0.4403 - val_accuracy: 0.8858\n",
            "Epoch 12/20\n",
            "30/30 [==============================] - 1s 23ms/step - loss: 0.0643 - accuracy: 0.9813 - val_loss: 0.4430 - val_accuracy: 0.8834\n",
            "Epoch 13/20\n",
            "30/30 [==============================] - 1s 22ms/step - loss: 0.0566 - accuracy: 0.9839 - val_loss: 0.4882 - val_accuracy: 0.8856\n",
            "Epoch 14/20\n",
            "30/30 [==============================] - 1s 23ms/step - loss: 0.0496 - accuracy: 0.9857 - val_loss: 0.5677 - val_accuracy: 0.8814\n",
            "Epoch 15/20\n",
            "30/30 [==============================] - 1s 22ms/step - loss: 0.0410 - accuracy: 0.9889 - val_loss: 0.5621 - val_accuracy: 0.8825\n",
            "Epoch 16/20\n",
            "30/30 [==============================] - 1s 22ms/step - loss: 0.0389 - accuracy: 0.9891 - val_loss: 0.5978 - val_accuracy: 0.8845\n",
            "Epoch 17/20\n",
            "30/30 [==============================] - 1s 22ms/step - loss: 0.0329 - accuracy: 0.9909 - val_loss: 0.6641 - val_accuracy: 0.8857\n",
            "Epoch 18/20\n",
            "30/30 [==============================] - 1s 22ms/step - loss: 0.0331 - accuracy: 0.9905 - val_loss: 0.6941 - val_accuracy: 0.8808\n",
            "Epoch 19/20\n",
            "30/30 [==============================] - 1s 23ms/step - loss: 0.0331 - accuracy: 0.9923 - val_loss: 0.6635 - val_accuracy: 0.8835\n",
            "Epoch 20/20\n",
            "30/30 [==============================] - 1s 23ms/step - loss: 0.0295 - accuracy: 0.9929 - val_loss: 0.6992 - val_accuracy: 0.8850\n"
          ]
        },
        {
          "output_type": "execute_result",
          "data": {
            "text/plain": [
              "dict_keys(['loss', 'accuracy', 'val_loss', 'val_accuracy'])"
            ]
          },
          "metadata": {},
          "execution_count": 43
        }
      ]
    },
    {
      "cell_type": "markdown",
      "source": [
        "**Plotting Accuracy and Loss of the Model**"
      ],
      "metadata": {
        "id": "R3gQzePkwdpy"
      }
    },
    {
      "cell_type": "code",
      "source": [
        "import matplotlib.pyplot as plt\n",
        "loss_value_drop = history_dict_Dropout[\"loss\"]\n",
        "val_loss_value_drop = history_dict_Dropout[\"val_loss\"]\n",
        "epochs = range(1, len(loss_value_drop) + 1)\n",
        "plt.plot(epochs, loss_value_drop, \"bo\", label=\"Training loss\")\n",
        "plt.plot(epochs, val_loss_value_drop, \"b\", label=\"Validation loss\")\n",
        "plt.title(\"Training and validation loss\")\n",
        "plt.xlabel(\"Epochs\")\n",
        "plt.ylabel(\"Loss\")\n",
        "plt.legend()\n",
        "plt.show()\n",
        "plt.clf()\n",
        "acc = history_dict_Dropout[\"accuracy\"]\n",
        "val_acc = history_dict_Dropout[\"val_accuracy\"]\n",
        "plt.plot(epochs, acc, \"bo\", label=\"Training acc\")\n",
        "plt.plot(epochs, val_acc, \"b\", label=\"Validation acc\")\n",
        "plt.title(\"Training and validation accuracy\")\n",
        "plt.xlabel(\"Epochs\")\n",
        "plt.ylabel(\"Accuracy\")\n",
        "plt.legend()\n",
        "plt.show()"
      ],
      "metadata": {
        "id": "LtcguL3_wgzY",
        "colab": {
          "base_uri": "https://localhost:8080/",
          "height": 573
        },
        "outputId": "4eea3b23-4d63-4d0f-d597-2d6de6317857"
      },
      "execution_count": 44,
      "outputs": [
        {
          "output_type": "display_data",
          "data": {
            "text/plain": [
              "<Figure size 432x288 with 1 Axes>"
            ],
            "image/png": "[encoded data removed]"
          },
          "metadata": {
            "needs_background": "light"
          }
        },
        {
          "output_type": "display_data",
          "data": {
            "text/plain": [
              "<Figure size 432x288 with 1 Axes>"
            ],
            "image/png": "[encoded data removed]"
          },
          "metadata": {
            "needs_background": "light"
          }
        }
      ]
    },
    {
      "cell_type": "code",
      "source": [
        "model_Dropout.fit(x_train, y_train, epochs=4, batch_size=512)\n",
        "results_Dropout = model_Dropout.evaluate(x_test, y_test)"
      ],
      "metadata": {
        "id": "V_n4hjo0wvJN",
        "colab": {
          "base_uri": "https://localhost:8080/"
        },
        "outputId": "0fdd33fe-fbeb-462f-9cee-ee43d008b298"
      },
      "execution_count": 45,
      "outputs": [
        {
          "output_type": "stream",
          "name": "stdout",
          "text": [
            "Epoch 1/4\n",
            "49/49 [==============================] - 1s 18ms/step - loss: 0.2565 - accuracy: 0.9352\n",
            "Epoch 2/4\n",
            "49/49 [==============================] - 1s 18ms/step - loss: 0.1776 - accuracy: 0.9492\n",
            "Epoch 3/4\n",
            "49/49 [==============================] - 1s 18ms/step - loss: 0.1467 - accuracy: 0.9576\n",
            "Epoch 4/4\n",
            "49/49 [==============================] - 1s 17ms/step - loss: 0.1231 - accuracy: 0.9646\n",
            "782/782 [==============================] - 1s 1ms/step - loss: 0.4733 - accuracy: 0.8689\n"
          ]
        }
      ]
    },
    {
      "cell_type": "code",
      "source": [
        "results_Dropout"
      ],
      "metadata": {
        "id": "OU7-u5r3w4JK",
        "colab": {
          "base_uri": "https://localhost:8080/"
        },
        "outputId": "194d636a-a8da-4f79-bdcd-77db7a7adee5"
      },
      "execution_count": 46,
      "outputs": [
        {
          "output_type": "execute_result",
          "data": {
            "text/plain": [
              "[0.4732835590839386, 0.8688799738883972]"
            ]
          },
          "metadata": {},
          "execution_count": 46
        }
      ]
    },
    {
      "cell_type": "markdown",
      "source": [
        "**Defining and Compiling the Model with Hypertuning Technique**"
      ],
      "metadata": {
        "id": "HFoStPXhw59S"
      }
    },
    {
      "cell_type": "code",
      "source": [
        "from tensorflow.keras import regularizers\n",
        "model_hyper = keras.Sequential([\n",
        "    layers.Dense(64, activation=\"relu\",kernel_regularizer=regularizers.l2(0.002)),\n",
        "    layers.Dropout(0.7),    \n",
        "    layers.Dense(64, activation=\"relu\",kernel_regularizer=regularizers.l2(0.002)),\n",
        "    layers.Dropout(0.7),\n",
        "    layers.Dense(32, activation=\"relu\",kernel_regularizer=regularizers.l2(0.002)),\n",
        "    layers.Dropout(0.7),\n",
        "    layers.Dense(1, activation=\"sigmoid\")\n",
        "])\n",
        "model_hyper.compile(optimizer=\"rmsprop\",\n",
        "              loss=\"mse\",\n",
        "              metrics=[\"accuracy\"])\n",
        "history_model_hyper = model_hyper.fit(partial_x_train,\n",
        "                    partial_y_train,\n",
        "                    epochs=20,\n",
        "                    batch_size=512,\n",
        "                    validation_data=(x_val, y_val))\n",
        "history_dict_hyper = history_model_hyper.history\n",
        "history_dict_hyper.keys()"
      ],
      "metadata": {
        "id": "ZwHCrWxxxBWI",
        "colab": {
          "base_uri": "https://localhost:8080/"
        },
        "outputId": "ec570826-fca9-4b54-c278-dfe05a03e9a5"
      },
      "execution_count": 47,
      "outputs": [
        {
          "output_type": "stream",
          "name": "stdout",
          "text": [
            "Epoch 1/20\n",
            "30/30 [==============================] - 2s 41ms/step - loss: 0.5119 - accuracy: 0.5353 - val_loss: 0.4222 - val_accuracy: 0.7682\n",
            "Epoch 2/20\n",
            "30/30 [==============================] - 1s 37ms/step - loss: 0.3725 - accuracy: 0.6683 - val_loss: 0.3146 - val_accuracy: 0.8249\n",
            "Epoch 3/20\n",
            "30/30 [==============================] - 1s 36ms/step - loss: 0.2924 - accuracy: 0.7749 - val_loss: 0.2472 - val_accuracy: 0.8622\n",
            "Epoch 4/20\n",
            "30/30 [==============================] - 1s 35ms/step - loss: 0.2395 - accuracy: 0.8236 - val_loss: 0.2045 - val_accuracy: 0.8677\n",
            "Epoch 5/20\n",
            "30/30 [==============================] - 1s 36ms/step - loss: 0.2050 - accuracy: 0.8463 - val_loss: 0.1722 - val_accuracy: 0.8762\n",
            "Epoch 6/20\n",
            "30/30 [==============================] - 1s 35ms/step - loss: 0.1779 - accuracy: 0.8570 - val_loss: 0.1577 - val_accuracy: 0.8724\n",
            "Epoch 7/20\n",
            "30/30 [==============================] - 1s 36ms/step - loss: 0.1619 - accuracy: 0.8692 - val_loss: 0.1424 - val_accuracy: 0.8754\n",
            "Epoch 8/20\n",
            "30/30 [==============================] - 1s 35ms/step - loss: 0.1542 - accuracy: 0.8716 - val_loss: 0.1374 - val_accuracy: 0.8813\n",
            "Epoch 9/20\n",
            "30/30 [==============================] - 1s 35ms/step - loss: 0.1465 - accuracy: 0.8781 - val_loss: 0.1339 - val_accuracy: 0.8780\n",
            "Epoch 10/20\n",
            "30/30 [==============================] - 1s 35ms/step - loss: 0.1423 - accuracy: 0.8819 - val_loss: 0.1354 - val_accuracy: 0.8769\n",
            "Epoch 11/20\n",
            "30/30 [==============================] - 1s 35ms/step - loss: 0.1402 - accuracy: 0.8807 - val_loss: 0.1292 - val_accuracy: 0.8811\n",
            "Epoch 12/20\n",
            "30/30 [==============================] - 1s 36ms/step - loss: 0.1370 - accuracy: 0.8847 - val_loss: 0.1314 - val_accuracy: 0.8797\n",
            "Epoch 13/20\n",
            "30/30 [==============================] - 1s 36ms/step - loss: 0.1353 - accuracy: 0.8899 - val_loss: 0.1298 - val_accuracy: 0.8802\n",
            "Epoch 14/20\n",
            "30/30 [==============================] - 1s 35ms/step - loss: 0.1338 - accuracy: 0.8879 - val_loss: 0.1340 - val_accuracy: 0.8675\n",
            "Epoch 15/20\n",
            "30/30 [==============================] - 1s 35ms/step - loss: 0.1332 - accuracy: 0.8871 - val_loss: 0.1305 - val_accuracy: 0.8735\n",
            "Epoch 16/20\n",
            "30/30 [==============================] - 1s 35ms/step - loss: 0.1304 - accuracy: 0.8914 - val_loss: 0.1309 - val_accuracy: 0.8795\n",
            "Epoch 17/20\n",
            "30/30 [==============================] - 1s 35ms/step - loss: 0.1286 - accuracy: 0.8965 - val_loss: 0.1340 - val_accuracy: 0.8774\n",
            "Epoch 18/20\n",
            "30/30 [==============================] - 1s 35ms/step - loss: 0.1266 - accuracy: 0.8982 - val_loss: 0.1313 - val_accuracy: 0.8735\n",
            "Epoch 19/20\n",
            "30/30 [==============================] - 1s 35ms/step - loss: 0.1264 - accuracy: 0.8969 - val_loss: 0.1349 - val_accuracy: 0.8763\n",
            "Epoch 20/20\n",
            "30/30 [==============================] - 2s 51ms/step - loss: 0.1266 - accuracy: 0.8977 - val_loss: 0.1296 - val_accuracy: 0.8822\n"
          ]
        },
        {
          "output_type": "execute_result",
          "data": {
            "text/plain": [
              "dict_keys(['loss', 'accuracy', 'val_loss', 'val_accuracy'])"
            ]
          },
          "metadata": {},
          "execution_count": 47
        }
      ]
    },
    {
      "cell_type": "markdown",
      "source": [
        "**Plotting Accuracy and Loss of the Model**"
      ],
      "metadata": {
        "id": "n7l1aRBhxL1I"
      }
    },
    {
      "cell_type": "code",
      "source": [
        "import matplotlib.pyplot as plt\n",
        "loss_value_hyper = history_dict_hyper[\"loss\"]\n",
        "val_loss_value_hyper = history_dict_hyper[\"val_loss\"]\n",
        "epochs = range(1, len(loss_value_hyper) + 1)\n",
        "plt.plot(epochs, loss_value_hyper, \"bo\", label=\"Training loss\")\n",
        "plt.plot(epochs, val_loss_value_hyper, \"b\", label=\"Validation loss\")\n",
        "plt.title(\"Training and validation loss\")\n",
        "plt.xlabel(\"Epochs\")\n",
        "plt.ylabel(\"Loss\")\n",
        "plt.legend()\n",
        "plt.show()\n",
        "plt.clf()\n",
        "acc = history_dict_hyper[\"accuracy\"]\n",
        "val_acc = history_dict_hyper[\"val_accuracy\"]\n",
        "plt.plot(epochs, acc, \"bo\", label=\"Training acc\")\n",
        "plt.plot(epochs, val_acc, \"b\", label=\"Validation acc\")\n",
        "plt.title(\"Training and validation accuracy\")\n",
        "plt.xlabel(\"Epochs\")\n",
        "plt.ylabel(\"Accuracy\")\n",
        "plt.legend()\n",
        "plt.show()"
      ],
      "metadata": {
        "id": "CyW1DYA8xPEa",
        "colab": {
          "base_uri": "https://localhost:8080/",
          "height": 573
        },
        "outputId": "0aa8ed58-78a8-4d26-932b-1843c136aa21"
      },
      "execution_count": 48,
      "outputs": [
        {
          "output_type": "display_data",
          "data": {
            "text/plain": [
              "<Figure size 432x288 with 1 Axes>"
            ],
            "image/png": "[encoded data removed]"
          },
          "metadata": {
            "needs_background": "light"
          }
        },
        {
          "output_type": "display_data",
          "data": {
            "text/plain": [
              "<Figure size 432x288 with 1 Axes>"
            ],
            "image/png": "[encoded data removed]"
          },
          "metadata": {
            "needs_background": "light"
          }
        }
      ]
    },
    {
      "cell_type": "code",
      "source": [
        "model_hyper.fit(x_train, y_train, epochs=4, batch_size=512)\n",
        "results_hyper = model_hyper.evaluate(x_test, y_test)"
      ],
      "metadata": {
        "id": "9cLlBYvWxXeV",
        "colab": {
          "base_uri": "https://localhost:8080/"
        },
        "outputId": "bf90816e-dcb1-4bac-fdb8-8fbe48a3cf76"
      },
      "execution_count": 49,
      "outputs": [
        {
          "output_type": "stream",
          "name": "stdout",
          "text": [
            "Epoch 1/4\n",
            "49/49 [==============================] - 1s 28ms/step - loss: 0.1392 - accuracy: 0.8758\n",
            "Epoch 2/4\n",
            "49/49 [==============================] - 1s 27ms/step - loss: 0.1345 - accuracy: 0.8848\n",
            "Epoch 3/4\n",
            "49/49 [==============================] - 1s 28ms/step - loss: 0.1341 - accuracy: 0.8836\n",
            "Epoch 4/4\n",
            "49/49 [==============================] - 1s 27ms/step - loss: 0.1341 - accuracy: 0.8828\n",
            "782/782 [==============================] - 2s 2ms/step - loss: 0.1307 - accuracy: 0.8755\n"
          ]
        }
      ]
    },
    {
      "cell_type": "code",
      "source": [
        "results_hyper"
      ],
      "metadata": {
        "id": "m7FjlaMzxa8q",
        "colab": {
          "base_uri": "https://localhost:8080/"
        },
        "outputId": "82241bd2-7e46-4dff-8041-8555cbaa9990"
      },
      "execution_count": 50,
      "outputs": [
        {
          "output_type": "execute_result",
          "data": {
            "text/plain": [
              "[0.13067735731601715, 0.8755199909210205]"
            ]
          },
          "metadata": {},
          "execution_count": 50
        }
      ]
    },
    {
      "cell_type": "markdown",
      "source": [
        "### Summarizing the Results of Various Models Across Accuracy and Loss"
      ],
      "metadata": {
        "id": "BlUcbKw0xh8m"
      }
    },
    {
      "cell_type": "code",
      "source": [
        "import numpy\n",
        "all_Loss= numpy.array([results_Dropout[0],results_hyper[0],results_MSE[0],results_tanh[0]])*100\n",
        "all_Loss\n",
        "all_Accuracy= numpy.array([results_Dropout[1],results_hyper[1],results_MSE[1],results_tanh[1]])*100\n",
        "all_Accuracy\n",
        "Labels=['Model_Dropout','Model_hyper','Model_MSE','model_tanh']\n",
        "\n",
        "plt.clf()"
      ],
      "metadata": {
        "id": "_Cuw9jmixzyF",
        "colab": {
          "base_uri": "https://localhost:8080/",
          "height": 34
        },
        "outputId": "208766c3-df37-48c8-a5ff-257806d896a0"
      },
      "execution_count": 52,
      "outputs": [
        {
          "output_type": "display_data",
          "data": {
            "text/plain": [
              "<Figure size 432x288 with 0 Axes>"
            ]
          },
          "metadata": {}
        }
      ]
    },
    {
      "cell_type": "code",
      "source": [
        "fig, ax = plt.subplots()\n",
        "ax.scatter(all_Loss,all_Accuracy)\n",
        "for i, txt in enumerate(Labels):\n",
        "    ax.annotate(txt, (all_Loss[i],all_Accuracy[i] ))\n",
        "plt.title(\"All Models Across Accuracy and Loss\")\n",
        "plt.ylabel(\"Accuracy\")\n",
        "plt.xlabel(\"Loss\")\n",
        "\n",
        "plt.show()"
      ],
      "metadata": {
        "id": "V9nCYFyGyO4Q",
        "colab": {
          "base_uri": "https://localhost:8080/",
          "height": 295
        },
        "outputId": "ab653ae0-c5a3-44e5-bdb2-8ab1cfe0ef25"
      },
      "execution_count": 53,
      "outputs": [
        {
          "output_type": "display_data",
          "data": {
            "text/plain": [
              "<Figure size 432x288 with 1 Axes>"
            ],
            "image/png": "[encoded data removed]"
          },
          "metadata": {
            "needs_background": "light"
          }
        }
      ]
    },
    {
      "cell_type": "markdown",
      "source": [
        "The model with Hypertuning technique has the highest accuracy with least loss among all the above models. This model was compiled using regularizers and dropout with MSE loss function. The dropout was set at 0.7 and dense layers of 64,64 and 32 were chosen for the model. The MSE loss function, used both in MSE model and hyper model has the least loss compared to other models. While increasing the number of units from 16, 32, 64, 128, we saw that change in the accuracy is minimum yet the loss function decreases. Tanh activation given the least accuracy compared to other models. We can also observe that the dropout technique does not lower the accuracy value very much."
      ],
      "metadata": {
        "id": "fsSCgKg9ye2C"
      }
    }
  ]
}